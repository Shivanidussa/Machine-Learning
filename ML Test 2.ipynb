{
 "cells": [
  {
   "cell_type": "markdown",
   "id": "2d11793b",
   "metadata": {},
   "source": [
    "## 1 question "
   ]
  },
  {
   "cell_type": "code",
   "execution_count": 1,
   "id": "5b994c41",
   "metadata": {},
   "outputs": [],
   "source": [
    "import pandas as pd\n",
    "import numpy as np\n",
    "import mlxtend"
   ]
  },
  {
   "cell_type": "code",
   "execution_count": 15,
   "id": "f3707001",
   "metadata": {},
   "outputs": [],
   "source": [
    "from mlxtend.frequent_patterns import apriori\n",
    "from mlxtend.frequent_patterns import association_rules"
   ]
  },
  {
   "cell_type": "code",
   "execution_count": 209,
   "id": "fd3aa669",
   "metadata": {},
   "outputs": [],
   "source": [
    "data = pd.read_csv(r\"C:\\Users\\Shivani Dussa\\Downloads\\retail.csv\")"
   ]
  },
  {
   "cell_type": "code",
   "execution_count": 210,
   "id": "1a9f1231",
   "metadata": {},
   "outputs": [
    {
     "name": "stdout",
     "output_type": "stream",
     "text": [
      "(4539, 4)\n"
     ]
    },
    {
     "data": {
      "text/html": [
       "<div>\n",
       "<style scoped>\n",
       "    .dataframe tbody tr th:only-of-type {\n",
       "        vertical-align: middle;\n",
       "    }\n",
       "\n",
       "    .dataframe tbody tr th {\n",
       "        vertical-align: top;\n",
       "    }\n",
       "\n",
       "    .dataframe thead th {\n",
       "        text-align: right;\n",
       "    }\n",
       "</style>\n",
       "<table border=\"1\" class=\"dataframe\">\n",
       "  <thead>\n",
       "    <tr style=\"text-align: right;\">\n",
       "      <th></th>\n",
       "      <th>POS Txn</th>\n",
       "      <th>Dept</th>\n",
       "      <th>ID</th>\n",
       "      <th>Sales U</th>\n",
       "    </tr>\n",
       "  </thead>\n",
       "  <tbody>\n",
       "    <tr>\n",
       "      <th>0</th>\n",
       "      <td>16120100160021008773</td>\n",
       "      <td>0261:HOSIERY</td>\n",
       "      <td>250</td>\n",
       "      <td>2</td>\n",
       "    </tr>\n",
       "    <tr>\n",
       "      <th>1</th>\n",
       "      <td>16120100160021008773</td>\n",
       "      <td>0634:VITAMINS &amp; HLTH AIDS</td>\n",
       "      <td>102</td>\n",
       "      <td>1</td>\n",
       "    </tr>\n",
       "    <tr>\n",
       "      <th>2</th>\n",
       "      <td>16120100160021008773</td>\n",
       "      <td>0879:PET SUPPLIES</td>\n",
       "      <td>158</td>\n",
       "      <td>2</td>\n",
       "    </tr>\n",
       "    <tr>\n",
       "      <th>3</th>\n",
       "      <td>16120100160021008773</td>\n",
       "      <td>0973:CANDY</td>\n",
       "      <td>175</td>\n",
       "      <td>2</td>\n",
       "    </tr>\n",
       "    <tr>\n",
       "      <th>4</th>\n",
       "      <td>16120100160021008773</td>\n",
       "      <td>0982:SPIRITS</td>\n",
       "      <td>176</td>\n",
       "      <td>1</td>\n",
       "    </tr>\n",
       "  </tbody>\n",
       "</table>\n",
       "</div>"
      ],
      "text/plain": [
       "                POS Txn                       Dept   ID  Sales U\n",
       "0  16120100160021008773               0261:HOSIERY  250        2\n",
       "1  16120100160021008773  0634:VITAMINS & HLTH AIDS  102        1\n",
       "2  16120100160021008773          0879:PET SUPPLIES  158        2\n",
       "3  16120100160021008773                 0973:CANDY  175        2\n",
       "4  16120100160021008773               0982:SPIRITS  176        1"
      ]
     },
     "execution_count": 210,
     "metadata": {},
     "output_type": "execute_result"
    }
   ],
   "source": [
    "print(data.shape)\n",
    "data.head()"
   ]
  },
  {
   "cell_type": "code",
   "execution_count": 211,
   "id": "c32a345d",
   "metadata": {},
   "outputs": [
    {
     "data": {
      "text/html": [
       "<div>\n",
       "<style scoped>\n",
       "    .dataframe tbody tr th:only-of-type {\n",
       "        vertical-align: middle;\n",
       "    }\n",
       "\n",
       "    .dataframe tbody tr th {\n",
       "        vertical-align: top;\n",
       "    }\n",
       "\n",
       "    .dataframe thead th {\n",
       "        text-align: right;\n",
       "    }\n",
       "</style>\n",
       "<table border=\"1\" class=\"dataframe\">\n",
       "  <thead>\n",
       "    <tr style=\"text-align: right;\">\n",
       "      <th></th>\n",
       "      <th>POS Txn</th>\n",
       "      <th>Dept</th>\n",
       "      <th>ID</th>\n",
       "      <th>Sales U</th>\n",
       "    </tr>\n",
       "  </thead>\n",
       "  <tbody>\n",
       "    <tr>\n",
       "      <th>764</th>\n",
       "      <td>16120100160023004258</td>\n",
       "      <td>0999:UNSCANNED ITEMS</td>\n",
       "      <td>182</td>\n",
       "      <td>1</td>\n",
       "    </tr>\n",
       "    <tr>\n",
       "      <th>2220</th>\n",
       "      <td>16120100160034005104</td>\n",
       "      <td>0999:UNSCANNED ITEMS</td>\n",
       "      <td>182</td>\n",
       "      <td>1</td>\n",
       "    </tr>\n",
       "    <tr>\n",
       "      <th>2237</th>\n",
       "      <td>16120100160034005109</td>\n",
       "      <td>0999:UNSCANNED ITEMS</td>\n",
       "      <td>182</td>\n",
       "      <td>1</td>\n",
       "    </tr>\n",
       "    <tr>\n",
       "      <th>2719</th>\n",
       "      <td>16120100160036007342</td>\n",
       "      <td>0999:UNSCANNED ITEMS</td>\n",
       "      <td>182</td>\n",
       "      <td>1</td>\n",
       "    </tr>\n",
       "    <tr>\n",
       "      <th>2977</th>\n",
       "      <td>16120100160037008773</td>\n",
       "      <td>0999:UNSCANNED ITEMS</td>\n",
       "      <td>182</td>\n",
       "      <td>1</td>\n",
       "    </tr>\n",
       "    <tr>\n",
       "      <th>3326</th>\n",
       "      <td>16120100160038001216</td>\n",
       "      <td>0999:UNSCANNED ITEMS</td>\n",
       "      <td>182</td>\n",
       "      <td>1</td>\n",
       "    </tr>\n",
       "    <tr>\n",
       "      <th>3515</th>\n",
       "      <td>16120100160038001286</td>\n",
       "      <td>0999:UNSCANNED ITEMS</td>\n",
       "      <td>182</td>\n",
       "      <td>1</td>\n",
       "    </tr>\n",
       "    <tr>\n",
       "      <th>3746</th>\n",
       "      <td>16120100160077007453</td>\n",
       "      <td>0999:UNSCANNED ITEMS</td>\n",
       "      <td>182</td>\n",
       "      <td>1</td>\n",
       "    </tr>\n",
       "    <tr>\n",
       "      <th>3803</th>\n",
       "      <td>16120100160077007533</td>\n",
       "      <td>0999:UNSCANNED ITEMS</td>\n",
       "      <td>182</td>\n",
       "      <td>1</td>\n",
       "    </tr>\n",
       "    <tr>\n",
       "      <th>3866</th>\n",
       "      <td>16120100160078001243</td>\n",
       "      <td>0999:UNSCANNED ITEMS</td>\n",
       "      <td>182</td>\n",
       "      <td>1</td>\n",
       "    </tr>\n",
       "    <tr>\n",
       "      <th>3919</th>\n",
       "      <td>16120100160079001388</td>\n",
       "      <td>0999:UNSCANNED ITEMS</td>\n",
       "      <td>182</td>\n",
       "      <td>1</td>\n",
       "    </tr>\n",
       "    <tr>\n",
       "      <th>4018</th>\n",
       "      <td>16120100160094009539</td>\n",
       "      <td>0999:UNSCANNED ITEMS</td>\n",
       "      <td>182</td>\n",
       "      <td>1</td>\n",
       "    </tr>\n",
       "    <tr>\n",
       "      <th>4119</th>\n",
       "      <td>16120100160094009611</td>\n",
       "      <td>0999:UNSCANNED ITEMS</td>\n",
       "      <td>182</td>\n",
       "      <td>1</td>\n",
       "    </tr>\n",
       "  </tbody>\n",
       "</table>\n",
       "</div>"
      ],
      "text/plain": [
       "                   POS Txn                  Dept   ID  Sales U\n",
       "764   16120100160023004258  0999:UNSCANNED ITEMS  182        1\n",
       "2220  16120100160034005104  0999:UNSCANNED ITEMS  182        1\n",
       "2237  16120100160034005109  0999:UNSCANNED ITEMS  182        1\n",
       "2719  16120100160036007342  0999:UNSCANNED ITEMS  182        1\n",
       "2977  16120100160037008773  0999:UNSCANNED ITEMS  182        1\n",
       "3326  16120100160038001216  0999:UNSCANNED ITEMS  182        1\n",
       "3515  16120100160038001286  0999:UNSCANNED ITEMS  182        1\n",
       "3746  16120100160077007453  0999:UNSCANNED ITEMS  182        1\n",
       "3803  16120100160077007533  0999:UNSCANNED ITEMS  182        1\n",
       "3866  16120100160078001243  0999:UNSCANNED ITEMS  182        1\n",
       "3919  16120100160079001388  0999:UNSCANNED ITEMS  182        1\n",
       "4018  16120100160094009539  0999:UNSCANNED ITEMS  182        1\n",
       "4119  16120100160094009611  0999:UNSCANNED ITEMS  182        1"
      ]
     },
     "execution_count": 211,
     "metadata": {},
     "output_type": "execute_result"
    }
   ],
   "source": [
    "#1.Remove the ‘0999: UNSCANNED ITEMS’ from the ‘Dept’ column\n",
    "remove_col = data[data['Dept'] == '0999:UNSCANNED ITEMS']\n",
    "remove_col"
   ]
  },
  {
   "cell_type": "code",
   "execution_count": 7,
   "id": "8687ef95",
   "metadata": {},
   "outputs": [
    {
     "data": {
      "text/plain": [
       "(13, 4)"
      ]
     },
     "execution_count": 7,
     "metadata": {},
     "output_type": "execute_result"
    }
   ],
   "source": [
    "remove_col.shape"
   ]
  },
  {
   "cell_type": "code",
   "execution_count": 220,
   "id": "a2ae21ad",
   "metadata": {
    "collapsed": true
   },
   "outputs": [
    {
     "data": {
      "text/plain": [
       "[[16120100160023004258, '0999:UNSCANNED ITEMS', 182, 1],\n",
       " [16120100160034005104, '0999:UNSCANNED ITEMS', 182, 1],\n",
       " [16120100160034005109, '0999:UNSCANNED ITEMS', 182, 1],\n",
       " [16120100160036007342, '0999:UNSCANNED ITEMS', 182, 1],\n",
       " [16120100160037008773, '0999:UNSCANNED ITEMS', 182, 1],\n",
       " [16120100160038001216, '0999:UNSCANNED ITEMS', 182, 1],\n",
       " [16120100160038001286, '0999:UNSCANNED ITEMS', 182, 1],\n",
       " [16120100160077007453, '0999:UNSCANNED ITEMS', 182, 1],\n",
       " [16120100160077007533, '0999:UNSCANNED ITEMS', 182, 1],\n",
       " [16120100160078001243, '0999:UNSCANNED ITEMS', 182, 1],\n",
       " [16120100160079001388, '0999:UNSCANNED ITEMS', 182, 1],\n",
       " [16120100160094009539, '0999:UNSCANNED ITEMS', 182, 1],\n",
       " [16120100160094009611, '0999:UNSCANNED ITEMS', 182, 1]]"
      ]
     },
     "execution_count": 220,
     "metadata": {},
     "output_type": "execute_result"
    }
   ],
   "source": [
    "list = remove_col.values.tolist()\n",
    "list"
   ]
  },
  {
   "cell_type": "code",
   "execution_count": 225,
   "id": "38ff8c17",
   "metadata": {},
   "outputs": [],
   "source": [
    "list.remove('0999:UNSCANNED ITEMS')\n",
    "print(list)"
   ]
  },
  {
   "cell_type": "code",
   "execution_count": 4,
   "id": "6fc5232f",
   "metadata": {},
   "outputs": [],
   "source": [
    "sr1 = data.drop(data.index[data['Dept'] == '0999:UNSCANNED ITEMS'],inplace = True)"
   ]
  },
  {
   "cell_type": "code",
   "execution_count": 5,
   "id": "cba7195e",
   "metadata": {},
   "outputs": [],
   "source": [
    "data1 = data[data['Dept'] == '0999:UNSCANNED ITEMS']"
   ]
  },
  {
   "cell_type": "code",
   "execution_count": 6,
   "id": "1584ceb5",
   "metadata": {},
   "outputs": [
    {
     "data": {
      "text/html": [
       "<div>\n",
       "<style scoped>\n",
       "    .dataframe tbody tr th:only-of-type {\n",
       "        vertical-align: middle;\n",
       "    }\n",
       "\n",
       "    .dataframe tbody tr th {\n",
       "        vertical-align: top;\n",
       "    }\n",
       "\n",
       "    .dataframe thead th {\n",
       "        text-align: right;\n",
       "    }\n",
       "</style>\n",
       "<table border=\"1\" class=\"dataframe\">\n",
       "  <thead>\n",
       "    <tr style=\"text-align: right;\">\n",
       "      <th></th>\n",
       "      <th>POS Txn</th>\n",
       "      <th>Dept</th>\n",
       "      <th>ID</th>\n",
       "      <th>Sales U</th>\n",
       "    </tr>\n",
       "  </thead>\n",
       "  <tbody>\n",
       "  </tbody>\n",
       "</table>\n",
       "</div>"
      ],
      "text/plain": [
       "Empty DataFrame\n",
       "Columns: [POS Txn, Dept, ID, Sales U]\n",
       "Index: []"
      ]
     },
     "execution_count": 6,
     "metadata": {},
     "output_type": "execute_result"
    }
   ],
   "source": [
    "data1"
   ]
  },
  {
   "cell_type": "code",
   "execution_count": 7,
   "id": "4e90b750",
   "metadata": {},
   "outputs": [
    {
     "data": {
      "text/plain": [
       "(4526, 4)"
      ]
     },
     "execution_count": 7,
     "metadata": {},
     "output_type": "execute_result"
    }
   ],
   "source": [
    "data.shape"
   ]
  },
  {
   "cell_type": "code",
   "execution_count": 8,
   "id": "a696d4d8",
   "metadata": {},
   "outputs": [
    {
     "data": {
      "text/html": [
       "<div>\n",
       "<style scoped>\n",
       "    .dataframe tbody tr th:only-of-type {\n",
       "        vertical-align: middle;\n",
       "    }\n",
       "\n",
       "    .dataframe tbody tr th {\n",
       "        vertical-align: top;\n",
       "    }\n",
       "\n",
       "    .dataframe thead th {\n",
       "        text-align: right;\n",
       "    }\n",
       "</style>\n",
       "<table border=\"1\" class=\"dataframe\">\n",
       "  <thead>\n",
       "    <tr style=\"text-align: right;\">\n",
       "      <th></th>\n",
       "      <th>POS Txn</th>\n",
       "      <th>Dept</th>\n",
       "      <th>ID</th>\n",
       "      <th>Sales U</th>\n",
       "    </tr>\n",
       "  </thead>\n",
       "  <tbody>\n",
       "    <tr>\n",
       "      <th>3</th>\n",
       "      <td>16120100160021008773</td>\n",
       "      <td>0973:CANDY</td>\n",
       "      <td>175</td>\n",
       "      <td>2</td>\n",
       "    </tr>\n",
       "    <tr>\n",
       "      <th>30</th>\n",
       "      <td>16120100160021008781</td>\n",
       "      <td>0973:CANDY</td>\n",
       "      <td>175</td>\n",
       "      <td>1</td>\n",
       "    </tr>\n",
       "    <tr>\n",
       "      <th>35</th>\n",
       "      <td>16120100160021008783</td>\n",
       "      <td>0973:CANDY</td>\n",
       "      <td>175</td>\n",
       "      <td>2</td>\n",
       "    </tr>\n",
       "    <tr>\n",
       "      <th>45</th>\n",
       "      <td>16120100160021008788</td>\n",
       "      <td>0973:CANDY</td>\n",
       "      <td>175</td>\n",
       "      <td>1</td>\n",
       "    </tr>\n",
       "    <tr>\n",
       "      <th>75</th>\n",
       "      <td>16120100160021008798</td>\n",
       "      <td>0973:CANDY</td>\n",
       "      <td>175</td>\n",
       "      <td>2</td>\n",
       "    </tr>\n",
       "  </tbody>\n",
       "</table>\n",
       "</div>"
      ],
      "text/plain": [
       "                 POS Txn        Dept   ID  Sales U\n",
       "3   16120100160021008773  0973:CANDY  175        2\n",
       "30  16120100160021008781  0973:CANDY  175        1\n",
       "35  16120100160021008783  0973:CANDY  175        2\n",
       "45  16120100160021008788  0973:CANDY  175        1\n",
       "75  16120100160021008798  0973:CANDY  175        2"
      ]
     },
     "execution_count": 8,
     "metadata": {},
     "output_type": "execute_result"
    }
   ],
   "source": [
    "# print no.of times 0973:CANDY was sold\n",
    "candy_soldout = data[data['Dept'] == '0973:CANDY']\n",
    "candy_soldout.head()"
   ]
  },
  {
   "cell_type": "code",
   "execution_count": 9,
   "id": "30e9aa0f",
   "metadata": {},
   "outputs": [
    {
     "data": {
      "text/plain": [
       "275"
      ]
     },
     "execution_count": 9,
     "metadata": {},
     "output_type": "execute_result"
    }
   ],
   "source": [
    "candy_soldout.shape[0]"
   ]
  },
  {
   "cell_type": "code",
   "execution_count": 193,
   "id": "133a1dba",
   "metadata": {},
   "outputs": [],
   "source": [
    "candy_soldout = candy_soldout.shape[0]"
   ]
  },
  {
   "cell_type": "markdown",
   "id": "59104dc7",
   "metadata": {},
   "source": [
    "- Total 275 times 0973:CANDY was sold out "
   ]
  },
  {
   "cell_type": "code",
   "execution_count": 38,
   "id": "4fb01520",
   "metadata": {},
   "outputs": [],
   "source": [
    "#2. For the Frequent Itemsets, keep the minimum support as 0.02 and find maximum support. (up to 5 decimal places)"
   ]
  },
  {
   "cell_type": "code",
   "execution_count": 19,
   "id": "04f6ae26",
   "metadata": {},
   "outputs": [],
   "source": [
    "# group the data by POS Txn\n",
    "group_by = data.groupby('POS Txn')"
   ]
  },
  {
   "cell_type": "code",
   "execution_count": 20,
   "id": "20d53a56",
   "metadata": {},
   "outputs": [
    {
     "data": {
      "text/html": [
       "<div>\n",
       "<style scoped>\n",
       "    .dataframe tbody tr th:only-of-type {\n",
       "        vertical-align: middle;\n",
       "    }\n",
       "\n",
       "    .dataframe tbody tr th {\n",
       "        vertical-align: top;\n",
       "    }\n",
       "\n",
       "    .dataframe thead th {\n",
       "        text-align: right;\n",
       "    }\n",
       "</style>\n",
       "<table border=\"1\" class=\"dataframe\">\n",
       "  <thead>\n",
       "    <tr style=\"text-align: right;\">\n",
       "      <th></th>\n",
       "      <th>Dept</th>\n",
       "      <th>ID</th>\n",
       "      <th>Sales U</th>\n",
       "    </tr>\n",
       "    <tr>\n",
       "      <th>POS Txn</th>\n",
       "      <th></th>\n",
       "      <th></th>\n",
       "      <th></th>\n",
       "    </tr>\n",
       "  </thead>\n",
       "  <tbody>\n",
       "    <tr>\n",
       "      <th>16120100160021008773</th>\n",
       "      <td>0261:HOSIERY</td>\n",
       "      <td>250</td>\n",
       "      <td>2</td>\n",
       "    </tr>\n",
       "    <tr>\n",
       "      <th>16120100160021008774</th>\n",
       "      <td>0597:HEALTH AIDS</td>\n",
       "      <td>93</td>\n",
       "      <td>1</td>\n",
       "    </tr>\n",
       "    <tr>\n",
       "      <th>16120100160021008775</th>\n",
       "      <td>0819:PRE-RECORDED A/V</td>\n",
       "      <td>135</td>\n",
       "      <td>1</td>\n",
       "    </tr>\n",
       "    <tr>\n",
       "      <th>16120100160021008776</th>\n",
       "      <td>0961:GENERAL GROCERIES</td>\n",
       "      <td>169</td>\n",
       "      <td>3</td>\n",
       "    </tr>\n",
       "    <tr>\n",
       "      <th>16120100160021008777</th>\n",
       "      <td>0982:SPIRITS</td>\n",
       "      <td>176</td>\n",
       "      <td>2</td>\n",
       "    </tr>\n",
       "    <tr>\n",
       "      <th>...</th>\n",
       "      <td>...</td>\n",
       "      <td>...</td>\n",
       "      <td>...</td>\n",
       "    </tr>\n",
       "    <tr>\n",
       "      <th>16120100160162000842</th>\n",
       "      <td>0815:AUDIO ELECTRONICS</td>\n",
       "      <td>132</td>\n",
       "      <td>1</td>\n",
       "    </tr>\n",
       "    <tr>\n",
       "      <th>16120100160162000843</th>\n",
       "      <td>0857:PC PERIPH/OFFICE ACC</td>\n",
       "      <td>155</td>\n",
       "      <td>1</td>\n",
       "    </tr>\n",
       "    <tr>\n",
       "      <th>16120100160162000845</th>\n",
       "      <td>0395:MENS ATHLETIC SHOES</td>\n",
       "      <td>49</td>\n",
       "      <td>1</td>\n",
       "    </tr>\n",
       "    <tr>\n",
       "      <th>16120100160162000846</th>\n",
       "      <td>0532:AMERICAN GREETINGS</td>\n",
       "      <td>72</td>\n",
       "      <td>1</td>\n",
       "    </tr>\n",
       "    <tr>\n",
       "      <th>16120100160221001467</th>\n",
       "      <td>0066:VENDING/AMUSEMENT MA</td>\n",
       "      <td>242</td>\n",
       "      <td>1</td>\n",
       "    </tr>\n",
       "  </tbody>\n",
       "</table>\n",
       "<p>2064 rows × 3 columns</p>\n",
       "</div>"
      ],
      "text/plain": [
       "                                           Dept   ID  Sales U\n",
       "POS Txn                                                      \n",
       "16120100160021008773               0261:HOSIERY  250        2\n",
       "16120100160021008774           0597:HEALTH AIDS   93        1\n",
       "16120100160021008775      0819:PRE-RECORDED A/V  135        1\n",
       "16120100160021008776     0961:GENERAL GROCERIES  169        3\n",
       "16120100160021008777               0982:SPIRITS  176        2\n",
       "...                                         ...  ...      ...\n",
       "16120100160162000842     0815:AUDIO ELECTRONICS  132        1\n",
       "16120100160162000843  0857:PC PERIPH/OFFICE ACC  155        1\n",
       "16120100160162000845   0395:MENS ATHLETIC SHOES   49        1\n",
       "16120100160162000846    0532:AMERICAN GREETINGS   72        1\n",
       "16120100160221001467  0066:VENDING/AMUSEMENT MA  242        1\n",
       "\n",
       "[2064 rows x 3 columns]"
      ]
     },
     "execution_count": 20,
     "metadata": {},
     "output_type": "execute_result"
    }
   ],
   "source": [
    "group_by.first()"
   ]
  },
  {
   "cell_type": "code",
   "execution_count": 54,
   "id": "8c4c5ccf",
   "metadata": {},
   "outputs": [],
   "source": [
    "from mlxtend.frequent_patterns import apriori"
   ]
  },
  {
   "cell_type": "code",
   "execution_count": 21,
   "id": "5cec03c2",
   "metadata": {},
   "outputs": [],
   "source": [
    "import apyori\n",
    "from apyori import apriori"
   ]
  },
  {
   "cell_type": "code",
   "execution_count": 100,
   "id": "9c5b5d6d",
   "metadata": {},
   "outputs": [],
   "source": [
    "# all the itemsets for each group in a list(itemsets)\n",
    "frequent_itemsets = apriori(data, min_support=0.4509,use_colnames=True)\n",
    "frequent_itemsets = list(frequent_itemsets)"
   ]
  },
  {
   "cell_type": "code",
   "execution_count": 101,
   "id": "c3f6fc15",
   "metadata": {},
   "outputs": [
    {
     "data": {
      "text/plain": [
       "array([[ True, False, False, ..., False, False,  True],\n",
       "       [False,  True, False, ..., False,  True, False],\n",
       "       [False,  True,  True, ..., False, False, False],\n",
       "       ...,\n",
       "       [False, False, False, ..., False, False, False],\n",
       "       [False, False, False, ..., False, False, False],\n",
       "       [False, False, False, ..., False, False, False]])"
      ]
     },
     "execution_count": 101,
     "metadata": {},
     "output_type": "execute_result"
    }
   ],
   "source": [
    "#Use TransactionEncoder() to transform the list(itemsets)\n",
    "from mlxtend.preprocessing import TransactionEncoder\n",
    "transformed = TransactionEncoder()\n",
    "transformed_list = transformed.fit(data).transform(data)\n",
    "transformed_list"
   ]
  },
  {
   "cell_type": "code",
   "execution_count": 23,
   "id": "a3245a89",
   "metadata": {},
   "outputs": [
    {
     "data": {
      "text/plain": [
       "array([[1, 0, 0, ..., 0, 0, 1],\n",
       "       [0, 1, 0, ..., 0, 1, 0],\n",
       "       [0, 1, 1, ..., 0, 0, 0],\n",
       "       ...,\n",
       "       [0, 0, 0, ..., 0, 0, 0],\n",
       "       [0, 0, 0, ..., 0, 0, 0],\n",
       "       [0, 0, 0, ..., 0, 0, 0]])"
      ]
     },
     "execution_count": 23,
     "metadata": {},
     "output_type": "execute_result"
    }
   ],
   "source": [
    "transformed_list.astype(\"int\")"
   ]
  },
  {
   "cell_type": "code",
   "execution_count": 105,
   "id": "ea805346",
   "metadata": {},
   "outputs": [],
   "source": [
    "#covert the tranformed list to a dataframe\n",
    "import pandas as pd\n",
    "transformed_df = pd.DataFrame(transformed_list,columns = transformed.columns_)"
   ]
  },
  {
   "cell_type": "code",
   "execution_count": 106,
   "id": "91bfb13e",
   "metadata": {},
   "outputs": [],
   "source": [
    "#Apply the apriori algorithm using parameters\n",
    "apriori_alg = apriori(transformed_df, min_support=0.02, use_colnames=True)"
   ]
  },
  {
   "cell_type": "code",
   "execution_count": 143,
   "id": "4a5a9456",
   "metadata": {},
   "outputs": [],
   "source": [
    "#Find the max_support upto 5 decimal places\n",
    "from mlxtend.frequent_patterns import association_rules\n",
    "rules = association_rules(frequent_itemset, metric=\"lift\", min_threshold=2)"
   ]
  },
  {
   "cell_type": "code",
   "execution_count": 137,
   "id": "10d86033",
   "metadata": {},
   "outputs": [],
   "source": [
    "for item in frequent_itemsets:\n",
    "\n",
    "    # first index of the inner list\n",
    "    # Contains base item and add item\n",
    "    pair = item[1] \n",
    "    items = [x for x in pair]\n",
    "    #print(\"Rule: \" + items[0] + \" -> \" + items[0])\n",
    "\n",
    "    #second index of the inner list\n",
    "    print(\"Support: \" + str(item[0]))"
   ]
  },
  {
   "cell_type": "code",
   "execution_count": 140,
   "id": "239c6c84",
   "metadata": {},
   "outputs": [
    {
     "data": {
      "text/plain": [
       "RelationRecord(items=frozenset({' '}), support=0.5, ordered_statistics=[OrderedStatistic(items_base=frozenset(), items_add=frozenset({' '}), confidence=0.5, lift=1.0)])"
      ]
     },
     "execution_count": 140,
     "metadata": {},
     "output_type": "execute_result"
    }
   ],
   "source": [
    "item"
   ]
  },
  {
   "cell_type": "code",
   "execution_count": 52,
   "id": "ab77e070",
   "metadata": {},
   "outputs": [],
   "source": [
    "frequent_itemset = pd.DataFrame(frequent_itemsets)\n",
    "frequent_itemsets = frequent_itemset.rename(columns = {'items' : 'itemsets', 'support' : 'support','ordered_statistics':'ordered_statistics'}, inplace = True)"
   ]
  },
  {
   "cell_type": "code",
   "execution_count": null,
   "id": "73c4f7e4",
   "metadata": {},
   "outputs": [],
   "source": [
    "#Filter rules having lift>=3  and confidence >=0.1 "
   ]
  },
  {
   "cell_type": "code",
   "execution_count": 164,
   "id": "67b081e2",
   "metadata": {
    "scrolled": true
   },
   "outputs": [
    {
     "data": {
      "text/html": [
       "<div>\n",
       "<style scoped>\n",
       "    .dataframe tbody tr th:only-of-type {\n",
       "        vertical-align: middle;\n",
       "    }\n",
       "\n",
       "    .dataframe tbody tr th {\n",
       "        vertical-align: top;\n",
       "    }\n",
       "\n",
       "    .dataframe thead th {\n",
       "        text-align: right;\n",
       "    }\n",
       "</style>\n",
       "<table border=\"1\" class=\"dataframe\">\n",
       "  <thead>\n",
       "    <tr style=\"text-align: right;\">\n",
       "      <th></th>\n",
       "      <th>antecedents</th>\n",
       "      <th>consequents</th>\n",
       "      <th>antecedent support</th>\n",
       "      <th>consequent support</th>\n",
       "      <th>support</th>\n",
       "      <th>confidence</th>\n",
       "      <th>lift</th>\n",
       "      <th>leverage</th>\n",
       "      <th>conviction</th>\n",
       "    </tr>\n",
       "  </thead>\n",
       "  <tbody>\n",
       "    <tr>\n",
       "      <th>0</th>\n",
       "      <td>(S)</td>\n",
       "      <td>( )</td>\n",
       "      <td>0.5</td>\n",
       "      <td>0.5</td>\n",
       "      <td>0.5</td>\n",
       "      <td>1.0</td>\n",
       "      <td>2.0</td>\n",
       "      <td>0.25</td>\n",
       "      <td>inf</td>\n",
       "    </tr>\n",
       "    <tr>\n",
       "      <th>1</th>\n",
       "      <td>( )</td>\n",
       "      <td>(S)</td>\n",
       "      <td>0.5</td>\n",
       "      <td>0.5</td>\n",
       "      <td>0.5</td>\n",
       "      <td>1.0</td>\n",
       "      <td>2.0</td>\n",
       "      <td>0.25</td>\n",
       "      <td>inf</td>\n",
       "    </tr>\n",
       "  </tbody>\n",
       "</table>\n",
       "</div>"
      ],
      "text/plain": [
       "  antecedents consequents  antecedent support  consequent support  support  \\\n",
       "0         (S)         ( )                 0.5                 0.5      0.5   \n",
       "1         ( )         (S)                 0.5                 0.5      0.5   \n",
       "\n",
       "   confidence  lift  leverage  conviction  \n",
       "0         1.0   2.0      0.25         inf  \n",
       "1         1.0   2.0      0.25         inf  "
      ]
     },
     "execution_count": 164,
     "metadata": {},
     "output_type": "execute_result"
    }
   ],
   "source": [
    "rules[(rules['confidence'] >= 0.1)]"
   ]
  },
  {
   "cell_type": "code",
   "execution_count": 146,
   "id": "fad2b6fc",
   "metadata": {},
   "outputs": [
    {
     "data": {
      "text/html": [
       "<div>\n",
       "<style scoped>\n",
       "    .dataframe tbody tr th:only-of-type {\n",
       "        vertical-align: middle;\n",
       "    }\n",
       "\n",
       "    .dataframe tbody tr th {\n",
       "        vertical-align: top;\n",
       "    }\n",
       "\n",
       "    .dataframe thead th {\n",
       "        text-align: right;\n",
       "    }\n",
       "</style>\n",
       "<table border=\"1\" class=\"dataframe\">\n",
       "  <thead>\n",
       "    <tr style=\"text-align: right;\">\n",
       "      <th></th>\n",
       "      <th>antecedents</th>\n",
       "      <th>consequents</th>\n",
       "      <th>antecedent support</th>\n",
       "      <th>consequent support</th>\n",
       "      <th>support</th>\n",
       "      <th>confidence</th>\n",
       "      <th>lift</th>\n",
       "      <th>leverage</th>\n",
       "      <th>conviction</th>\n",
       "    </tr>\n",
       "  </thead>\n",
       "  <tbody>\n",
       "  </tbody>\n",
       "</table>\n",
       "</div>"
      ],
      "text/plain": [
       "Empty DataFrame\n",
       "Columns: [antecedents, consequents, antecedent support, consequent support, support, confidence, lift, leverage, conviction]\n",
       "Index: []"
      ]
     },
     "execution_count": 146,
     "metadata": {},
     "output_type": "execute_result"
    }
   ],
   "source": [
    "rules[(rules['lift'] >= 3.0)]"
   ]
  },
  {
   "cell_type": "code",
   "execution_count": 174,
   "id": "1433cac8",
   "metadata": {},
   "outputs": [],
   "source": [
    "filtered_rules = rules[(rules['antecedent support'] > 0.1) &\n",
    "                  (rules['consequent support'] > 0.4)]"
   ]
  },
  {
   "cell_type": "code",
   "execution_count": 186,
   "id": "da5b3354",
   "metadata": {},
   "outputs": [],
   "source": [
    "number_of_rules = 2\n",
    "filtered_rules = 2"
   ]
  },
  {
   "cell_type": "code",
   "execution_count": 202,
   "id": "ab7476dc",
   "metadata": {},
   "outputs": [],
   "source": [
    "output = candy_soldout,Max_support,number_of_rules,filtered_rules"
   ]
  },
  {
   "cell_type": "code",
   "execution_count": 203,
   "id": "51ac5872",
   "metadata": {},
   "outputs": [
    {
     "data": {
      "text/plain": [
       "(275, 0.5248, 2, 2)"
      ]
     },
     "execution_count": 203,
     "metadata": {},
     "output_type": "execute_result"
    }
   ],
   "source": [
    "output"
   ]
  },
  {
   "cell_type": "code",
   "execution_count": null,
   "id": "ba4c0e85",
   "metadata": {},
   "outputs": [],
   "source": [
    "output.to_csv(\"output/output.csv\")"
   ]
  },
  {
   "cell_type": "markdown",
   "id": "e22cb2c8",
   "metadata": {},
   "source": [
    "### 2 question"
   ]
  },
  {
   "cell_type": "code",
   "execution_count": 55,
   "id": "c35e6011",
   "metadata": {},
   "outputs": [],
   "source": [
    "import pandas as pd\n",
    "import numpy as np"
   ]
  },
  {
   "cell_type": "code",
   "execution_count": 2,
   "id": "113dd7d1",
   "metadata": {},
   "outputs": [],
   "source": [
    "df = pd.read_csv(\"https://raw.githubusercontent.com/plotly/datasets/master/diabetes.csv\")"
   ]
  },
  {
   "cell_type": "code",
   "execution_count": 4,
   "id": "71cae89d",
   "metadata": {},
   "outputs": [
    {
     "data": {
      "text/html": [
       "<div>\n",
       "<style scoped>\n",
       "    .dataframe tbody tr th:only-of-type {\n",
       "        vertical-align: middle;\n",
       "    }\n",
       "\n",
       "    .dataframe tbody tr th {\n",
       "        vertical-align: top;\n",
       "    }\n",
       "\n",
       "    .dataframe thead th {\n",
       "        text-align: right;\n",
       "    }\n",
       "</style>\n",
       "<table border=\"1\" class=\"dataframe\">\n",
       "  <thead>\n",
       "    <tr style=\"text-align: right;\">\n",
       "      <th></th>\n",
       "      <th>Pregnancies</th>\n",
       "      <th>Glucose</th>\n",
       "      <th>BloodPressure</th>\n",
       "      <th>SkinThickness</th>\n",
       "      <th>Insulin</th>\n",
       "      <th>BMI</th>\n",
       "      <th>DiabetesPedigreeFunction</th>\n",
       "      <th>Age</th>\n",
       "      <th>Outcome</th>\n",
       "    </tr>\n",
       "  </thead>\n",
       "  <tbody>\n",
       "    <tr>\n",
       "      <th>0</th>\n",
       "      <td>6</td>\n",
       "      <td>148</td>\n",
       "      <td>72</td>\n",
       "      <td>35</td>\n",
       "      <td>0</td>\n",
       "      <td>33.6</td>\n",
       "      <td>0.627</td>\n",
       "      <td>50</td>\n",
       "      <td>1</td>\n",
       "    </tr>\n",
       "    <tr>\n",
       "      <th>1</th>\n",
       "      <td>1</td>\n",
       "      <td>85</td>\n",
       "      <td>66</td>\n",
       "      <td>29</td>\n",
       "      <td>0</td>\n",
       "      <td>26.6</td>\n",
       "      <td>0.351</td>\n",
       "      <td>31</td>\n",
       "      <td>0</td>\n",
       "    </tr>\n",
       "    <tr>\n",
       "      <th>2</th>\n",
       "      <td>8</td>\n",
       "      <td>183</td>\n",
       "      <td>64</td>\n",
       "      <td>0</td>\n",
       "      <td>0</td>\n",
       "      <td>23.3</td>\n",
       "      <td>0.672</td>\n",
       "      <td>32</td>\n",
       "      <td>1</td>\n",
       "    </tr>\n",
       "    <tr>\n",
       "      <th>3</th>\n",
       "      <td>1</td>\n",
       "      <td>89</td>\n",
       "      <td>66</td>\n",
       "      <td>23</td>\n",
       "      <td>94</td>\n",
       "      <td>28.1</td>\n",
       "      <td>0.167</td>\n",
       "      <td>21</td>\n",
       "      <td>0</td>\n",
       "    </tr>\n",
       "    <tr>\n",
       "      <th>4</th>\n",
       "      <td>0</td>\n",
       "      <td>137</td>\n",
       "      <td>40</td>\n",
       "      <td>35</td>\n",
       "      <td>168</td>\n",
       "      <td>43.1</td>\n",
       "      <td>2.288</td>\n",
       "      <td>33</td>\n",
       "      <td>1</td>\n",
       "    </tr>\n",
       "  </tbody>\n",
       "</table>\n",
       "</div>"
      ],
      "text/plain": [
       "   Pregnancies  Glucose  BloodPressure  SkinThickness  Insulin   BMI  \\\n",
       "0            6      148             72             35        0  33.6   \n",
       "1            1       85             66             29        0  26.6   \n",
       "2            8      183             64              0        0  23.3   \n",
       "3            1       89             66             23       94  28.1   \n",
       "4            0      137             40             35      168  43.1   \n",
       "\n",
       "   DiabetesPedigreeFunction  Age  Outcome  \n",
       "0                     0.627   50        1  \n",
       "1                     0.351   31        0  \n",
       "2                     0.672   32        1  \n",
       "3                     0.167   21        0  \n",
       "4                     2.288   33        1  "
      ]
     },
     "execution_count": 4,
     "metadata": {},
     "output_type": "execute_result"
    }
   ],
   "source": [
    "df.head()"
   ]
  },
  {
   "cell_type": "code",
   "execution_count": 3,
   "id": "32f04ed0",
   "metadata": {},
   "outputs": [
    {
     "data": {
      "text/plain": [
       "(768, 9)"
      ]
     },
     "execution_count": 3,
     "metadata": {},
     "output_type": "execute_result"
    }
   ],
   "source": [
    "df.shape"
   ]
  },
  {
   "cell_type": "code",
   "execution_count": 5,
   "id": "467ef6ee",
   "metadata": {},
   "outputs": [],
   "source": [
    "import sklearn.preprocessing\n",
    "from sklearn.model_selection import train_test_split\n",
    "#from sklearn.linear_model import LogisticRegression\n",
    "from sklearn import metrics"
   ]
  },
  {
   "cell_type": "code",
   "execution_count": 6,
   "id": "451b0aa3",
   "metadata": {},
   "outputs": [],
   "source": [
    "X = df.drop(['Outcome'],axis = 1)\n",
    "y = df['Outcome']"
   ]
  },
  {
   "cell_type": "code",
   "execution_count": 7,
   "id": "3485c5d9",
   "metadata": {},
   "outputs": [],
   "source": [
    "X_train,X_test,y_train,y_test = train_test_split(X, y, test_size=0.33, random_state=42)"
   ]
  },
  {
   "cell_type": "code",
   "execution_count": 56,
   "id": "dfbcfaff",
   "metadata": {},
   "outputs": [
    {
     "data": {
      "text/html": [
       "<div>\n",
       "<style scoped>\n",
       "    .dataframe tbody tr th:only-of-type {\n",
       "        vertical-align: middle;\n",
       "    }\n",
       "\n",
       "    .dataframe tbody tr th {\n",
       "        vertical-align: top;\n",
       "    }\n",
       "\n",
       "    .dataframe thead th {\n",
       "        text-align: right;\n",
       "    }\n",
       "</style>\n",
       "<table border=\"1\" class=\"dataframe\">\n",
       "  <thead>\n",
       "    <tr style=\"text-align: right;\">\n",
       "      <th></th>\n",
       "      <th>Pregnancies</th>\n",
       "      <th>Glucose</th>\n",
       "      <th>BloodPressure</th>\n",
       "      <th>SkinThickness</th>\n",
       "      <th>Insulin</th>\n",
       "      <th>BMI</th>\n",
       "      <th>DiabetesPedigreeFunction</th>\n",
       "      <th>Age</th>\n",
       "    </tr>\n",
       "  </thead>\n",
       "  <tbody>\n",
       "    <tr>\n",
       "      <th>464</th>\n",
       "      <td>10</td>\n",
       "      <td>115</td>\n",
       "      <td>98</td>\n",
       "      <td>0</td>\n",
       "      <td>0</td>\n",
       "      <td>24.0</td>\n",
       "      <td>1.022</td>\n",
       "      <td>34</td>\n",
       "    </tr>\n",
       "    <tr>\n",
       "      <th>223</th>\n",
       "      <td>7</td>\n",
       "      <td>142</td>\n",
       "      <td>60</td>\n",
       "      <td>33</td>\n",
       "      <td>190</td>\n",
       "      <td>28.8</td>\n",
       "      <td>0.687</td>\n",
       "      <td>61</td>\n",
       "    </tr>\n",
       "    <tr>\n",
       "      <th>393</th>\n",
       "      <td>4</td>\n",
       "      <td>116</td>\n",
       "      <td>72</td>\n",
       "      <td>12</td>\n",
       "      <td>87</td>\n",
       "      <td>22.1</td>\n",
       "      <td>0.463</td>\n",
       "      <td>37</td>\n",
       "    </tr>\n",
       "    <tr>\n",
       "      <th>766</th>\n",
       "      <td>1</td>\n",
       "      <td>126</td>\n",
       "      <td>60</td>\n",
       "      <td>0</td>\n",
       "      <td>0</td>\n",
       "      <td>30.1</td>\n",
       "      <td>0.349</td>\n",
       "      <td>47</td>\n",
       "    </tr>\n",
       "    <tr>\n",
       "      <th>570</th>\n",
       "      <td>3</td>\n",
       "      <td>78</td>\n",
       "      <td>70</td>\n",
       "      <td>0</td>\n",
       "      <td>0</td>\n",
       "      <td>32.5</td>\n",
       "      <td>0.270</td>\n",
       "      <td>39</td>\n",
       "    </tr>\n",
       "  </tbody>\n",
       "</table>\n",
       "</div>"
      ],
      "text/plain": [
       "     Pregnancies  Glucose  BloodPressure  SkinThickness  Insulin   BMI  \\\n",
       "464           10      115             98              0        0  24.0   \n",
       "223            7      142             60             33      190  28.8   \n",
       "393            4      116             72             12       87  22.1   \n",
       "766            1      126             60              0        0  30.1   \n",
       "570            3       78             70              0        0  32.5   \n",
       "\n",
       "     DiabetesPedigreeFunction  Age  \n",
       "464                     1.022   34  \n",
       "223                     0.687   61  \n",
       "393                     0.463   37  \n",
       "766                     0.349   47  \n",
       "570                     0.270   39  "
      ]
     },
     "execution_count": 56,
     "metadata": {},
     "output_type": "execute_result"
    }
   ],
   "source": [
    "X_train.head()"
   ]
  },
  {
   "cell_type": "code",
   "execution_count": 9,
   "id": "851dddac",
   "metadata": {},
   "outputs": [
    {
     "data": {
      "text/plain": [
       "((514, 8), (514,), (254, 8), (254,))"
      ]
     },
     "execution_count": 9,
     "metadata": {},
     "output_type": "execute_result"
    }
   ],
   "source": [
    "X_train.shape,y_train.shape,X_test.shape,y_test.shape"
   ]
  },
  {
   "cell_type": "code",
   "execution_count": 57,
   "id": "8abebc5e",
   "metadata": {},
   "outputs": [
    {
     "data": {
      "text/html": [
       "<div>\n",
       "<style scoped>\n",
       "    .dataframe tbody tr th:only-of-type {\n",
       "        vertical-align: middle;\n",
       "    }\n",
       "\n",
       "    .dataframe tbody tr th {\n",
       "        vertical-align: top;\n",
       "    }\n",
       "\n",
       "    .dataframe thead th {\n",
       "        text-align: right;\n",
       "    }\n",
       "</style>\n",
       "<table border=\"1\" class=\"dataframe\">\n",
       "  <thead>\n",
       "    <tr style=\"text-align: right;\">\n",
       "      <th></th>\n",
       "      <th>Pregnancies</th>\n",
       "      <th>Glucose</th>\n",
       "      <th>BloodPressure</th>\n",
       "      <th>SkinThickness</th>\n",
       "      <th>Insulin</th>\n",
       "      <th>BMI</th>\n",
       "      <th>DiabetesPedigreeFunction</th>\n",
       "      <th>Age</th>\n",
       "    </tr>\n",
       "  </thead>\n",
       "  <tbody>\n",
       "    <tr>\n",
       "      <th>668</th>\n",
       "      <td>6</td>\n",
       "      <td>98</td>\n",
       "      <td>58</td>\n",
       "      <td>33</td>\n",
       "      <td>190</td>\n",
       "      <td>34.0</td>\n",
       "      <td>0.430</td>\n",
       "      <td>43</td>\n",
       "    </tr>\n",
       "    <tr>\n",
       "      <th>324</th>\n",
       "      <td>2</td>\n",
       "      <td>112</td>\n",
       "      <td>75</td>\n",
       "      <td>32</td>\n",
       "      <td>0</td>\n",
       "      <td>35.7</td>\n",
       "      <td>0.148</td>\n",
       "      <td>21</td>\n",
       "    </tr>\n",
       "    <tr>\n",
       "      <th>624</th>\n",
       "      <td>2</td>\n",
       "      <td>108</td>\n",
       "      <td>64</td>\n",
       "      <td>0</td>\n",
       "      <td>0</td>\n",
       "      <td>30.8</td>\n",
       "      <td>0.158</td>\n",
       "      <td>21</td>\n",
       "    </tr>\n",
       "    <tr>\n",
       "      <th>690</th>\n",
       "      <td>8</td>\n",
       "      <td>107</td>\n",
       "      <td>80</td>\n",
       "      <td>0</td>\n",
       "      <td>0</td>\n",
       "      <td>24.6</td>\n",
       "      <td>0.856</td>\n",
       "      <td>34</td>\n",
       "    </tr>\n",
       "    <tr>\n",
       "      <th>473</th>\n",
       "      <td>7</td>\n",
       "      <td>136</td>\n",
       "      <td>90</td>\n",
       "      <td>0</td>\n",
       "      <td>0</td>\n",
       "      <td>29.9</td>\n",
       "      <td>0.210</td>\n",
       "      <td>50</td>\n",
       "    </tr>\n",
       "  </tbody>\n",
       "</table>\n",
       "</div>"
      ],
      "text/plain": [
       "     Pregnancies  Glucose  BloodPressure  SkinThickness  Insulin   BMI  \\\n",
       "668            6       98             58             33      190  34.0   \n",
       "324            2      112             75             32        0  35.7   \n",
       "624            2      108             64              0        0  30.8   \n",
       "690            8      107             80              0        0  24.6   \n",
       "473            7      136             90              0        0  29.9   \n",
       "\n",
       "     DiabetesPedigreeFunction  Age  \n",
       "668                     0.430   43  \n",
       "324                     0.148   21  \n",
       "624                     0.158   21  \n",
       "690                     0.856   34  \n",
       "473                     0.210   50  "
      ]
     },
     "execution_count": 57,
     "metadata": {},
     "output_type": "execute_result"
    }
   ],
   "source": [
    "X_test.head()"
   ]
  },
  {
   "cell_type": "code",
   "execution_count": 16,
   "id": "e545fa39",
   "metadata": {
    "collapsed": true
   },
   "outputs": [
    {
     "data": {
      "text/plain": [
       "668    0\n",
       "324    0\n",
       "624    0\n",
       "690    0\n",
       "473    0\n",
       "Name: Outcome, dtype: int64"
      ]
     },
     "execution_count": 16,
     "metadata": {},
     "output_type": "execute_result"
    }
   ],
   "source": [
    "y_test.head()"
   ]
  },
  {
   "cell_type": "code",
   "execution_count": 11,
   "id": "ae20198f",
   "metadata": {},
   "outputs": [],
   "source": [
    "import sklearn\n",
    "from sklearn import ensemble\n",
    "from sklearn.ensemble import AdaBoostClassifier"
   ]
  },
  {
   "cell_type": "code",
   "execution_count": 58,
   "id": "83bf88a9",
   "metadata": {},
   "outputs": [
    {
     "data": {
      "text/plain": [
       "AdaBoostClassifier(learning_rate=0.3, n_estimators=100, random_state=42)"
      ]
     },
     "execution_count": 58,
     "metadata": {},
     "output_type": "execute_result"
    }
   ],
   "source": [
    "# Find optimal values for Adaboost\n",
    "from sklearn.ensemble import AdaBoostClassifier\n",
    "abr = AdaBoostClassifier(learning_rate = 0.3,n_estimators = 100,random_state = 42)\n",
    "\n",
    "abr.fit(X_train,y_train)\n",
    "#y_pred1 = abr.predict(X_test)\n",
    "#y_pred1train = abr.predict(X_train)"
   ]
  },
  {
   "cell_type": "code",
   "execution_count": 123,
   "id": "61f3f8b4",
   "metadata": {},
   "outputs": [],
   "source": [
    "optimal_values = 0.3,100"
   ]
  },
  {
   "cell_type": "markdown",
   "id": "617a733b",
   "metadata": {},
   "source": [
    "- Optimal Values are 0.3 and 100"
   ]
  },
  {
   "cell_type": "code",
   "execution_count": 59,
   "id": "7bde0374",
   "metadata": {},
   "outputs": [
    {
     "data": {
      "text/plain": [
       "GridSearchCV(cv=5,\n",
       "             estimator=AdaBoostClassifier(learning_rate=0.3, n_estimators=100,\n",
       "                                          random_state=42),\n",
       "             param_grid={'learning_rate': [0.3, 0.4], 'n_estimators': [50, 100],\n",
       "                         'random_state': [42]})"
      ]
     },
     "execution_count": 59,
     "metadata": {},
     "output_type": "execute_result"
    }
   ],
   "source": [
    "# use gridsearch cv\n",
    "from sklearn.model_selection import GridSearchCV \n",
    "from sklearn.ensemble import AdaBoostClassifier\n",
    "\n",
    "param_grid = {'n_estimators':[50,100],\n",
    "    'learning_rate':[0.3,0.4],\n",
    "              'random_state':[42]\n",
    "}\n",
    "abr_grid = GridSearchCV(estimator = abr,param_grid = param_grid,cv = 5)\n",
    "\n",
    "abr_grid.fit(X_train,y_train)"
   ]
  },
  {
   "cell_type": "code",
   "execution_count": 41,
   "id": "07dc27fe",
   "metadata": {},
   "outputs": [
    {
     "name": "stdout",
     "output_type": "stream",
     "text": [
      "0.7480314960629921\n"
     ]
    }
   ],
   "source": [
    "# find the precision values for Adaboost\n",
    "from sklearn.metrics import accuracy_score\n",
    "from sklearn.ensemble import AdaBoostClassifier\n",
    "abr = AdaBoostClassifier(learning_rate = 0.3,n_estimators = 100,random_state = 42)\n",
    "\n",
    "abr.fit(X_train,y_train)\n",
    "y_pred = abr.predict(X_test)\n",
    "Accuracy = accuracy_score(y_test,y_pred)\n",
    "print(Accuracy)"
   ]
  },
  {
   "cell_type": "code",
   "execution_count": 82,
   "id": "4fc6d154",
   "metadata": {},
   "outputs": [
    {
     "name": "stdout",
     "output_type": "stream",
     "text": [
      "AdaBoost_Accuracy :  0.7480314960629921\n",
      "AdaBoost_Sensitivity :  0.8273809523809523\n",
      "AdaBoost_Specificity :  0.5930232558139535\n"
     ]
    }
   ],
   "source": [
    "cm1 = confusion_matrix(y_test,y_pred)\n",
    "#print('Confusion Matrix : \\n', cm1)\n",
    "\n",
    "total1=sum(sum(cm1))\n",
    "\n",
    "#from confusion matrix calculate accuracy\n",
    "accuracy1=(cm1[0,0]+cm1[1,1])/total1\n",
    "print ('AdaBoost_Accuracy : ', accuracy1)\n",
    "\n",
    "# sensitivity\n",
    "sensitivity1 = cm1[0,0]/(cm1[0,0]+cm1[0,1])\n",
    "print('AdaBoost_Sensitivity : ', sensitivity1 )\n",
    "\n",
    "# specificity\n",
    "specificity1 = cm1[1,1]/(cm1[1,0]+cm1[1,1])\n",
    "print('AdaBoost_Specificity : ', specificity1)"
   ]
  },
  {
   "cell_type": "code",
   "execution_count": 62,
   "id": "b60319e9",
   "metadata": {
    "scrolled": true
   },
   "outputs": [
    {
     "data": {
      "text/plain": [
       "0.7125984251968503"
      ]
     },
     "execution_count": 62,
     "metadata": {},
     "output_type": "execute_result"
    }
   ],
   "source": [
    "# finding the precision values of GradientBoostClassifier\n",
    "from sklearn.ensemble import GradientBoostingClassifier\n",
    "Gradboost = GradientBoostingClassifier(n_estimators = 100,learning_rate = 0.3,)\n",
    "Gradboost.fit(X_train,y_train)\n",
    "y_pred1 = Gradboost.predict(X_test)\n",
    "Accuracy = accuracy_score(y_test,y_pred1)\n",
    "Accuracy"
   ]
  },
  {
   "cell_type": "code",
   "execution_count": 118,
   "id": "19ff3792",
   "metadata": {},
   "outputs": [
    {
     "name": "stdout",
     "output_type": "stream",
     "text": [
      "GradBoost_Accuracy :  0.7125984251968503\n",
      "GradBoost_Sensitivity :  0.7619047619047619\n",
      "GradBoost_Specificity :  0.6162790697674418\n"
     ]
    }
   ],
   "source": [
    "cm2 = confusion_matrix(y_test,y_pred1)\n",
    "#print('Confusion Matrix : \\n', cm2)\n",
    "\n",
    "total1=sum(sum(cm2))\n",
    "\n",
    "#from confusion matrix calculate accuracy\n",
    "accuracy2=(cm2[0,0]+cm2[1,1])/total1\n",
    "print('GradBoost_Accuracy : ', accuracy2)\n",
    "\n",
    "# sensitivity\n",
    "sensitivity2 = cm2[0,0]/(cm2[0,0]+cm2[0,1])\n",
    "print('GradBoost_Sensitivity : ', sensitivity2)\n",
    "\n",
    "# specificity\n",
    "specificity2 = cm2[1,1]/(cm2[1,0]+cm2[1,1])\n",
    "print('GradBoost_Specificity : ', specificity2)"
   ]
  },
  {
   "cell_type": "markdown",
   "id": "adeb7efe",
   "metadata": {},
   "source": [
    "- optimal values are 0.3, 100"
   ]
  },
  {
   "cell_type": "code",
   "execution_count": 92,
   "id": "7ec4de65",
   "metadata": {},
   "outputs": [
    {
     "data": {
      "text/plain": [
       "0.7480314960629921"
      ]
     },
     "execution_count": 92,
     "metadata": {},
     "output_type": "execute_result"
    }
   ],
   "source": [
    "AdaBoost_Accuracy =  accuracy1\n",
    "AdaBoost_Accuracy"
   ]
  },
  {
   "cell_type": "code",
   "execution_count": 114,
   "id": "2047ddc9",
   "metadata": {},
   "outputs": [
    {
     "name": "stdout",
     "output_type": "stream",
     "text": [
      "0.75\n",
      "0.71\n"
     ]
    }
   ],
   "source": [
    "AdaBoost_Accuracy = round(AdaBoost_Accuracy,2)\n",
    "print(AdaBoost_Accuracy)\n",
    "\n",
    "GradBoost_Accuracy = accuracy2\n",
    "GradBoost_Accuracy = round(GradBoost_Accuracy,2)\n",
    "print(GradBoost_Accuracy)"
   ]
  },
  {
   "cell_type": "code",
   "execution_count": 116,
   "id": "7f8a8f65",
   "metadata": {},
   "outputs": [
    {
     "name": "stdout",
     "output_type": "stream",
     "text": [
      "0.83\n",
      "0.76\n"
     ]
    }
   ],
   "source": [
    "AdaBoost_Sensitivity =  sensitivity1\n",
    "AdaBoost_Sensitivity = round(AdaBoost_Sensitivity,2)\n",
    "print(AdaBoost_Sensitivity)\n",
    "\n",
    "GradBoost_Sensitivity =  sensitivity2\n",
    "GradBoost_Sensitivity = round(GradBoost_Sensitivity,2)\n",
    "print(GradBoost_Sensitivity)"
   ]
  },
  {
   "cell_type": "code",
   "execution_count": 117,
   "id": "8252996d",
   "metadata": {},
   "outputs": [
    {
     "name": "stdout",
     "output_type": "stream",
     "text": [
      "0.59\n",
      "0.62\n"
     ]
    }
   ],
   "source": [
    "AdaBoost_Specificity =  specificity1\n",
    "AdaBoost_Specificity = round(AdaBoost_Specificity,2)\n",
    "print(AdaBoost_Specificity)\n",
    "\n",
    "GradBoost_Specificity = specificity2 \n",
    "GradBoost_Specificity = round(GradBoost_Specificity,2)\n",
    "print(GradBoost_Specificity)"
   ]
  },
  {
   "cell_type": "markdown",
   "id": "dc2ce24c",
   "metadata": {},
   "source": [
    "- Accuracy is more for  Ada Boost\n",
    "- Senitivity is more for Ada Boost\n",
    "- Specificity is more for Gradient Boost "
   ]
  },
  {
   "cell_type": "code",
   "execution_count": 122,
   "id": "24476a58",
   "metadata": {},
   "outputs": [],
   "source": [
    "output = AdaBoost_Accuracy,AdaBoost_Sensitivity,GradBoost_Specificity"
   ]
  },
  {
   "cell_type": "code",
   "execution_count": 126,
   "id": "214779c5",
   "metadata": {},
   "outputs": [],
   "source": [
    "final_output = optimal_values + output"
   ]
  },
  {
   "cell_type": "code",
   "execution_count": 127,
   "id": "826d364f",
   "metadata": {},
   "outputs": [
    {
     "data": {
      "text/plain": [
       "(0.3, 100, 0.75, 0.83, 0.62)"
      ]
     },
     "execution_count": 127,
     "metadata": {},
     "output_type": "execute_result"
    }
   ],
   "source": [
    "final_output"
   ]
  },
  {
   "cell_type": "code",
   "execution_count": null,
   "id": "49dd6e24",
   "metadata": {},
   "outputs": [],
   "source": [
    "final_output.to_csv(\"output/output.csv\")"
   ]
  }
 ],
 "metadata": {
  "kernelspec": {
   "display_name": "Python 3 (ipykernel)",
   "language": "python",
   "name": "python3"
  },
  "language_info": {
   "codemirror_mode": {
    "name": "ipython",
    "version": 3
   },
   "file_extension": ".py",
   "mimetype": "text/x-python",
   "name": "python",
   "nbconvert_exporter": "python",
   "pygments_lexer": "ipython3",
   "version": "3.9.12"
  }
 },
 "nbformat": 4,
 "nbformat_minor": 5
}
