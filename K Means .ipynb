{
 "cells": [
  {
   "cell_type": "markdown",
   "id": "c136e79f",
   "metadata": {},
   "source": [
    "## K - Meaning Clustering "
   ]
  },
  {
   "cell_type": "markdown",
   "id": "93a2edb7",
   "metadata": {},
   "source": [
    "### Problem Definition\n",
    "Perform K-Means Clustering on a dataset containing shopping details of customers from various cities to understand how clustering segregates the data similar to each other.\n",
    "### Dataset Description\n",
    "The dataset is based on the the shopping details of customers of few cities. The data has been populated randomly and holds no such relation to any real systems data or confidential data. It has 8 dimensions or features with 200 entries."
   ]
  },
  {
   "cell_type": "code",
   "execution_count": 1,
   "id": "fe765ea4",
   "metadata": {},
   "outputs": [],
   "source": [
    "import pandas as pd\n",
    "import numpy as np\n",
    "import matplotlib.pyplot as plt\n",
    "\n",
    "from sklearn.model_selection import train_test_split\n",
    "from sklearn.cluster import KMeans\n",
    "from sklearn.metrics import accuracy_score,confusion_matrix\n",
    "\n",
    "import warnings\n",
    "warnings.filterwarnings('ignore')"
   ]
  },
  {
   "cell_type": "code",
   "execution_count": 9,
   "id": "2ee6b48a",
   "metadata": {},
   "outputs": [],
   "source": [
    "km1 = pd.read_csv(r\"C:\\Users\\Shivani Dussa\\Downloads\\employee_data.csv\")"
   ]
  },
  {
   "cell_type": "code",
   "execution_count": 11,
   "id": "452ffc03",
   "metadata": {},
   "outputs": [
    {
     "name": "stdout",
     "output_type": "stream",
     "text": [
      "(14999, 10)\n"
     ]
    }
   ],
   "source": [
    "km1.head(4)\n",
    "print(km1.shape)"
   ]
  },
  {
   "cell_type": "code",
   "execution_count": 29,
   "id": "c0c6ca66",
   "metadata": {},
   "outputs": [
    {
     "data": {
      "text/html": [
       "<div>\n",
       "<style scoped>\n",
       "    .dataframe tbody tr th:only-of-type {\n",
       "        vertical-align: middle;\n",
       "    }\n",
       "\n",
       "    .dataframe tbody tr th {\n",
       "        vertical-align: top;\n",
       "    }\n",
       "\n",
       "    .dataframe thead th {\n",
       "        text-align: right;\n",
       "    }\n",
       "</style>\n",
       "<table border=\"1\" class=\"dataframe\">\n",
       "  <thead>\n",
       "    <tr style=\"text-align: right;\">\n",
       "      <th></th>\n",
       "      <th>satisfaction_level</th>\n",
       "      <th>last_evaluation</th>\n",
       "      <th>number_project</th>\n",
       "      <th>average_montly_hours</th>\n",
       "      <th>time_spend_company</th>\n",
       "      <th>Work_accident</th>\n",
       "      <th>quit</th>\n",
       "      <th>promotion_last_5years</th>\n",
       "      <th>department</th>\n",
       "      <th>salary</th>\n",
       "    </tr>\n",
       "  </thead>\n",
       "  <tbody>\n",
       "    <tr>\n",
       "      <th>783</th>\n",
       "      <td>0.36</td>\n",
       "      <td>0.46</td>\n",
       "      <td>2</td>\n",
       "      <td>132</td>\n",
       "      <td>3</td>\n",
       "      <td>0</td>\n",
       "      <td>1</td>\n",
       "      <td>0</td>\n",
       "      <td>sales</td>\n",
       "      <td>low</td>\n",
       "    </tr>\n",
       "    <tr>\n",
       "      <th>784</th>\n",
       "      <td>0.44</td>\n",
       "      <td>0.57</td>\n",
       "      <td>2</td>\n",
       "      <td>131</td>\n",
       "      <td>3</td>\n",
       "      <td>0</td>\n",
       "      <td>1</td>\n",
       "      <td>0</td>\n",
       "      <td>sales</td>\n",
       "      <td>low</td>\n",
       "    </tr>\n",
       "    <tr>\n",
       "      <th>785</th>\n",
       "      <td>0.85</td>\n",
       "      <td>0.99</td>\n",
       "      <td>5</td>\n",
       "      <td>248</td>\n",
       "      <td>5</td>\n",
       "      <td>0</td>\n",
       "      <td>1</td>\n",
       "      <td>0</td>\n",
       "      <td>sales</td>\n",
       "      <td>low</td>\n",
       "    </tr>\n",
       "    <tr>\n",
       "      <th>786</th>\n",
       "      <td>0.78</td>\n",
       "      <td>0.93</td>\n",
       "      <td>5</td>\n",
       "      <td>225</td>\n",
       "      <td>5</td>\n",
       "      <td>0</td>\n",
       "      <td>1</td>\n",
       "      <td>0</td>\n",
       "      <td>sales</td>\n",
       "      <td>low</td>\n",
       "    </tr>\n",
       "    <tr>\n",
       "      <th>787</th>\n",
       "      <td>0.39</td>\n",
       "      <td>0.46</td>\n",
       "      <td>2</td>\n",
       "      <td>156</td>\n",
       "      <td>3</td>\n",
       "      <td>0</td>\n",
       "      <td>1</td>\n",
       "      <td>0</td>\n",
       "      <td>sales</td>\n",
       "      <td>low</td>\n",
       "    </tr>\n",
       "  </tbody>\n",
       "</table>\n",
       "</div>"
      ],
      "text/plain": [
       "     satisfaction_level  last_evaluation  number_project  \\\n",
       "783                0.36             0.46               2   \n",
       "784                0.44             0.57               2   \n",
       "785                0.85             0.99               5   \n",
       "786                0.78             0.93               5   \n",
       "787                0.39             0.46               2   \n",
       "\n",
       "     average_montly_hours  time_spend_company  Work_accident  quit  \\\n",
       "783                   132                   3              0     1   \n",
       "784                   131                   3              0     1   \n",
       "785                   248                   5              0     1   \n",
       "786                   225                   5              0     1   \n",
       "787                   156                   3              0     1   \n",
       "\n",
       "     promotion_last_5years department salary  \n",
       "783                      0      sales    low  \n",
       "784                      0      sales    low  \n",
       "785                      0      sales    low  \n",
       "786                      0      sales    low  \n",
       "787                      0      sales    low  "
      ]
     },
     "execution_count": 29,
     "metadata": {},
     "output_type": "execute_result"
    }
   ],
   "source": [
    "km1.head()"
   ]
  },
  {
   "cell_type": "code",
   "execution_count": 19,
   "id": "0fef047a",
   "metadata": {},
   "outputs": [],
   "source": [
    "km1.drop_duplicates(keep = False,inplace = True)"
   ]
  },
  {
   "cell_type": "code",
   "execution_count": 20,
   "id": "407a339f",
   "metadata": {},
   "outputs": [
    {
     "data": {
      "text/plain": [
       "0"
      ]
     },
     "execution_count": 20,
     "metadata": {},
     "output_type": "execute_result"
    }
   ],
   "source": [
    "km1.duplicated().sum()"
   ]
  },
  {
   "cell_type": "code",
   "execution_count": 21,
   "id": "27985ce1",
   "metadata": {},
   "outputs": [
    {
     "data": {
      "text/plain": [
       "(9653, 10)"
      ]
     },
     "execution_count": 21,
     "metadata": {},
     "output_type": "execute_result"
    }
   ],
   "source": [
    "km1.shape"
   ]
  },
  {
   "cell_type": "code",
   "execution_count": 30,
   "id": "d047f1a0",
   "metadata": {},
   "outputs": [],
   "source": [
    "# here we were taking only two features\n",
    "km = km1[[\"satisfaction_level\",\"quit\"]]"
   ]
  },
  {
   "cell_type": "code",
   "execution_count": 31,
   "id": "27a74417",
   "metadata": {},
   "outputs": [
    {
     "data": {
      "text/html": [
       "<div>\n",
       "<style scoped>\n",
       "    .dataframe tbody tr th:only-of-type {\n",
       "        vertical-align: middle;\n",
       "    }\n",
       "\n",
       "    .dataframe tbody tr th {\n",
       "        vertical-align: top;\n",
       "    }\n",
       "\n",
       "    .dataframe thead th {\n",
       "        text-align: right;\n",
       "    }\n",
       "</style>\n",
       "<table border=\"1\" class=\"dataframe\">\n",
       "  <thead>\n",
       "    <tr style=\"text-align: right;\">\n",
       "      <th></th>\n",
       "      <th>satisfaction_level</th>\n",
       "      <th>quit</th>\n",
       "    </tr>\n",
       "  </thead>\n",
       "  <tbody>\n",
       "    <tr>\n",
       "      <th>783</th>\n",
       "      <td>0.36</td>\n",
       "      <td>1</td>\n",
       "    </tr>\n",
       "    <tr>\n",
       "      <th>784</th>\n",
       "      <td>0.44</td>\n",
       "      <td>1</td>\n",
       "    </tr>\n",
       "    <tr>\n",
       "      <th>785</th>\n",
       "      <td>0.85</td>\n",
       "      <td>1</td>\n",
       "    </tr>\n",
       "    <tr>\n",
       "      <th>786</th>\n",
       "      <td>0.78</td>\n",
       "      <td>1</td>\n",
       "    </tr>\n",
       "    <tr>\n",
       "      <th>787</th>\n",
       "      <td>0.39</td>\n",
       "      <td>1</td>\n",
       "    </tr>\n",
       "  </tbody>\n",
       "</table>\n",
       "</div>"
      ],
      "text/plain": [
       "     satisfaction_level  quit\n",
       "783                0.36     1\n",
       "784                0.44     1\n",
       "785                0.85     1\n",
       "786                0.78     1\n",
       "787                0.39     1"
      ]
     },
     "execution_count": 31,
     "metadata": {},
     "output_type": "execute_result"
    }
   ],
   "source": [
    "km.head()"
   ]
  },
  {
   "cell_type": "code",
   "execution_count": 32,
   "id": "6ac88b83",
   "metadata": {},
   "outputs": [
    {
     "data": {
      "text/plain": [
       "satisfaction_level    0\n",
       "quit                  0\n",
       "dtype: int64"
      ]
     },
     "execution_count": 32,
     "metadata": {},
     "output_type": "execute_result"
    }
   ],
   "source": [
    "km.isnull().sum()"
   ]
  },
  {
   "cell_type": "code",
   "execution_count": 33,
   "id": "4f907fe0",
   "metadata": {},
   "outputs": [
    {
     "data": {
      "text/html": [
       "<div>\n",
       "<style scoped>\n",
       "    .dataframe tbody tr th:only-of-type {\n",
       "        vertical-align: middle;\n",
       "    }\n",
       "\n",
       "    .dataframe tbody tr th {\n",
       "        vertical-align: top;\n",
       "    }\n",
       "\n",
       "    .dataframe thead th {\n",
       "        text-align: right;\n",
       "    }\n",
       "</style>\n",
       "<table border=\"1\" class=\"dataframe\">\n",
       "  <thead>\n",
       "    <tr style=\"text-align: right;\">\n",
       "      <th></th>\n",
       "      <th>count</th>\n",
       "      <th>mean</th>\n",
       "      <th>std</th>\n",
       "      <th>min</th>\n",
       "      <th>25%</th>\n",
       "      <th>50%</th>\n",
       "      <th>75%</th>\n",
       "      <th>max</th>\n",
       "    </tr>\n",
       "  </thead>\n",
       "  <tbody>\n",
       "    <tr>\n",
       "      <th>satisfaction_level</th>\n",
       "      <td>9653.0</td>\n",
       "      <td>0.642706</td>\n",
       "      <td>0.234450</td>\n",
       "      <td>0.09</td>\n",
       "      <td>0.5</td>\n",
       "      <td>0.67</td>\n",
       "      <td>0.83</td>\n",
       "      <td>1.0</td>\n",
       "    </tr>\n",
       "    <tr>\n",
       "      <th>quit</th>\n",
       "      <td>9653.0</td>\n",
       "      <td>0.111986</td>\n",
       "      <td>0.315365</td>\n",
       "      <td>0.00</td>\n",
       "      <td>0.0</td>\n",
       "      <td>0.00</td>\n",
       "      <td>0.00</td>\n",
       "      <td>1.0</td>\n",
       "    </tr>\n",
       "  </tbody>\n",
       "</table>\n",
       "</div>"
      ],
      "text/plain": [
       "                     count      mean       std   min  25%   50%   75%  max\n",
       "satisfaction_level  9653.0  0.642706  0.234450  0.09  0.5  0.67  0.83  1.0\n",
       "quit                9653.0  0.111986  0.315365  0.00  0.0  0.00  0.00  1.0"
      ]
     },
     "execution_count": 33,
     "metadata": {},
     "output_type": "execute_result"
    }
   ],
   "source": [
    "km.describe().transpose()"
   ]
  },
  {
   "cell_type": "markdown",
   "id": "673be801",
   "metadata": {},
   "source": [
    "### plot the unclustered data"
   ]
  },
  {
   "cell_type": "code",
   "execution_count": 36,
   "id": "f1e4027c",
   "metadata": {},
   "outputs": [
    {
     "data": {
      "image/png": "[encoded data removed]",
      "text/plain": [
       "<Figure size 432x288 with 1 Axes>"
      ]
     },
     "metadata": {
      "needs_background": "light"
     },
     "output_type": "display_data"
    }
   ],
   "source": [
    "plt.scatter(km.iloc[:,0],km.iloc[:,1])\n",
    "plt.xlabel('satisfaction level')\n",
    "plt.ylabel('quit')\n",
    "plt.title('plot of unclustered data')\n",
    "plt.show()"
   ]
  },
  {
   "cell_type": "markdown",
   "id": "837d653b",
   "metadata": {},
   "source": [
    "\n",
    "\n",
    "**K-means Clustering Algorithm** is a simple and easy to implement **unsupervised** machine learning algorithm.\n",
    "The main objective of K-means clustering is to group similar data points together into a cluster.It is used when we have unlabelled data.\n",
    "The aim of this algorithm is to divide 'n' number of observations into 'k' number of clusters.  \n",
    "\n",
    "A **cluster** refers to a collection of data points clubbed together because of existing similarities between them. The task of identifying and assigning similar data-points to a cluster is known as **Clustering**.\n"
   ]
  },
  {
   "cell_type": "markdown",
   "id": "f1864fc6",
   "metadata": {},
   "source": [
    "### K - Means Using scikit learn   "
   ]
  },
  {
   "cell_type": "code",
   "execution_count": 41,
   "id": "908825e5",
   "metadata": {},
   "outputs": [
    {
     "data": {
      "text/plain": [
       "KMeans(n_clusters=5)"
      ]
     },
     "execution_count": 41,
     "metadata": {},
     "output_type": "execute_result"
    }
   ],
   "source": [
    "# here we are assuming k = 5\n",
    "kmeans = KMeans(n_clusters = 5)\n",
    "kmeans.fit(km)"
   ]
  },
  {
   "cell_type": "code",
   "execution_count": 44,
   "id": "7d161ae3",
   "metadata": {},
   "outputs": [
    {
     "data": {
      "text/plain": [
       "array([1, 1, 4, ..., 2, 0, 3])"
      ]
     },
     "execution_count": 44,
     "metadata": {},
     "output_type": "execute_result"
    }
   ],
   "source": [
    "# here, we are generating labels of each point \n",
    "labels = kmeans.predict(km)\n",
    "labels"
   ]
  },
  {
   "cell_type": "code",
   "execution_count": 67,
   "id": "f9b80f74",
   "metadata": {},
   "outputs": [],
   "source": [
    "np.set_printoptions(formatter={'float_kind' : '{:.2f}'.format })"
   ]
  },
  {
   "cell_type": "code",
   "execution_count": 68,
   "id": "cd2a4e4d",
   "metadata": {},
   "outputs": [
    {
     "data": {
      "text/plain": [
       "array([[0.57, -0.00],\n",
       "       [0.44, 1.00],\n",
       "       [0.79, -0.00],\n",
       "       [0.98, -0.00],\n",
       "       [0.23, 0.00],\n",
       "       [0.76, 1.00],\n",
       "       [0.11, 1.00],\n",
       "       [0.63, -0.00],\n",
       "       [0.89, -0.00],\n",
       "       [0.43, 0.00],\n",
       "       [0.69, -0.00],\n",
       "       [0.34, 0.00],\n",
       "       [0.16, 0.00],\n",
       "       [0.38, 1.00],\n",
       "       [0.74, -0.00],\n",
       "       [0.87, 1.00],\n",
       "       [0.50, -0.00],\n",
       "       [0.84, -0.00],\n",
       "       [0.93, 0.00],\n",
       "       [0.60, 1.00]])"
      ]
     },
     "execution_count": 68,
     "metadata": {},
     "output_type": "execute_result"
    }
   ],
   "source": [
    "centroids = kmeans.cluster_centers_\n",
    "centroids"
   ]
  },
  {
   "cell_type": "code",
   "execution_count": 69,
   "id": "07df65bf",
   "metadata": {},
   "outputs": [
    {
     "data": {
      "text/plain": [
       "3.061131476200467"
      ]
     },
     "execution_count": 69,
     "metadata": {},
     "output_type": "execute_result"
    }
   ],
   "source": [
    "kmeans.inertia_"
   ]
  },
  {
   "cell_type": "markdown",
   "id": "2ddb1195",
   "metadata": {},
   "source": [
    "Visualization the Cluster data"
   ]
  },
  {
   "cell_type": "code",
   "execution_count": 70,
   "id": "9edc2fd8",
   "metadata": {},
   "outputs": [
    {
     "data": {
      "text/html": [
       "<div>\n",
       "<style scoped>\n",
       "    .dataframe tbody tr th:only-of-type {\n",
       "        vertical-align: middle;\n",
       "    }\n",
       "\n",
       "    .dataframe tbody tr th {\n",
       "        vertical-align: top;\n",
       "    }\n",
       "\n",
       "    .dataframe thead th {\n",
       "        text-align: right;\n",
       "    }\n",
       "</style>\n",
       "<table border=\"1\" class=\"dataframe\">\n",
       "  <thead>\n",
       "    <tr style=\"text-align: right;\">\n",
       "      <th></th>\n",
       "      <th>satisfaction_level</th>\n",
       "      <th>quit</th>\n",
       "      <th>labels</th>\n",
       "    </tr>\n",
       "  </thead>\n",
       "  <tbody>\n",
       "    <tr>\n",
       "      <th>783</th>\n",
       "      <td>0.36</td>\n",
       "      <td>1</td>\n",
       "      <td>1</td>\n",
       "    </tr>\n",
       "    <tr>\n",
       "      <th>784</th>\n",
       "      <td>0.44</td>\n",
       "      <td>1</td>\n",
       "      <td>1</td>\n",
       "    </tr>\n",
       "    <tr>\n",
       "      <th>785</th>\n",
       "      <td>0.85</td>\n",
       "      <td>1</td>\n",
       "      <td>4</td>\n",
       "    </tr>\n",
       "    <tr>\n",
       "      <th>786</th>\n",
       "      <td>0.78</td>\n",
       "      <td>1</td>\n",
       "      <td>4</td>\n",
       "    </tr>\n",
       "    <tr>\n",
       "      <th>787</th>\n",
       "      <td>0.39</td>\n",
       "      <td>1</td>\n",
       "      <td>1</td>\n",
       "    </tr>\n",
       "  </tbody>\n",
       "</table>\n",
       "</div>"
      ],
      "text/plain": [
       "     satisfaction_level  quit  labels\n",
       "783                0.36     1       1\n",
       "784                0.44     1       1\n",
       "785                0.85     1       4\n",
       "786                0.78     1       4\n",
       "787                0.39     1       1"
      ]
     },
     "execution_count": 70,
     "metadata": {},
     "output_type": "execute_result"
    }
   ],
   "source": [
    "km['labels'] = labels\n",
    "km.head()"
   ]
  },
  {
   "cell_type": "code",
   "execution_count": 71,
   "id": "7d82576f",
   "metadata": {},
   "outputs": [
    {
     "data": {
      "text/html": [
       "<div>\n",
       "<style scoped>\n",
       "    .dataframe tbody tr th:only-of-type {\n",
       "        vertical-align: middle;\n",
       "    }\n",
       "\n",
       "    .dataframe tbody tr th {\n",
       "        vertical-align: top;\n",
       "    }\n",
       "\n",
       "    .dataframe thead th {\n",
       "        text-align: right;\n",
       "    }\n",
       "</style>\n",
       "<table border=\"1\" class=\"dataframe\">\n",
       "  <thead>\n",
       "    <tr style=\"text-align: right;\">\n",
       "      <th></th>\n",
       "      <th>satisfaction_level</th>\n",
       "      <th>quit</th>\n",
       "      <th>labels</th>\n",
       "      <th>color</th>\n",
       "    </tr>\n",
       "  </thead>\n",
       "  <tbody>\n",
       "    <tr>\n",
       "      <th>783</th>\n",
       "      <td>0.36</td>\n",
       "      <td>1</td>\n",
       "      <td>1</td>\n",
       "      <td>g</td>\n",
       "    </tr>\n",
       "    <tr>\n",
       "      <th>784</th>\n",
       "      <td>0.44</td>\n",
       "      <td>1</td>\n",
       "      <td>1</td>\n",
       "      <td>g</td>\n",
       "    </tr>\n",
       "    <tr>\n",
       "      <th>785</th>\n",
       "      <td>0.85</td>\n",
       "      <td>1</td>\n",
       "      <td>4</td>\n",
       "      <td>c</td>\n",
       "    </tr>\n",
       "    <tr>\n",
       "      <th>786</th>\n",
       "      <td>0.78</td>\n",
       "      <td>1</td>\n",
       "      <td>4</td>\n",
       "      <td>c</td>\n",
       "    </tr>\n",
       "    <tr>\n",
       "      <th>787</th>\n",
       "      <td>0.39</td>\n",
       "      <td>1</td>\n",
       "      <td>1</td>\n",
       "      <td>g</td>\n",
       "    </tr>\n",
       "  </tbody>\n",
       "</table>\n",
       "</div>"
      ],
      "text/plain": [
       "     satisfaction_level  quit  labels color\n",
       "783                0.36     1       1     g\n",
       "784                0.44     1       1     g\n",
       "785                0.85     1       4     c\n",
       "786                0.78     1       4     c\n",
       "787                0.39     1       1     g"
      ]
     },
     "execution_count": 71,
     "metadata": {},
     "output_type": "execute_result"
    }
   ],
   "source": [
    "colmp = {0: 'r', 1: 'g',2: 'b',3:'y',4:'c'}\n",
    "km['color'] = km['labels'].apply(lambda x:colmp[x])\n",
    "km.head()"
   ]
  },
  {
   "cell_type": "code",
   "execution_count": 72,
   "id": "1760eeac",
   "metadata": {},
   "outputs": [
    {
     "data": {
      "text/html": [
       "<div>\n",
       "<style scoped>\n",
       "    .dataframe tbody tr th:only-of-type {\n",
       "        vertical-align: middle;\n",
       "    }\n",
       "\n",
       "    .dataframe tbody tr th {\n",
       "        vertical-align: top;\n",
       "    }\n",
       "\n",
       "    .dataframe thead th {\n",
       "        text-align: right;\n",
       "    }\n",
       "</style>\n",
       "<table border=\"1\" class=\"dataframe\">\n",
       "  <thead>\n",
       "    <tr style=\"text-align: right;\">\n",
       "      <th></th>\n",
       "      <th>satisfaction_level</th>\n",
       "      <th>quit</th>\n",
       "      <th>labels</th>\n",
       "      <th>color</th>\n",
       "    </tr>\n",
       "  </thead>\n",
       "  <tbody>\n",
       "    <tr>\n",
       "      <th>10567</th>\n",
       "      <td>0.75</td>\n",
       "      <td>0</td>\n",
       "      <td>2</td>\n",
       "      <td>b</td>\n",
       "    </tr>\n",
       "    <tr>\n",
       "      <th>10568</th>\n",
       "      <td>0.91</td>\n",
       "      <td>0</td>\n",
       "      <td>2</td>\n",
       "      <td>b</td>\n",
       "    </tr>\n",
       "    <tr>\n",
       "      <th>10569</th>\n",
       "      <td>0.84</td>\n",
       "      <td>0</td>\n",
       "      <td>2</td>\n",
       "      <td>b</td>\n",
       "    </tr>\n",
       "    <tr>\n",
       "      <th>10570</th>\n",
       "      <td>0.64</td>\n",
       "      <td>0</td>\n",
       "      <td>0</td>\n",
       "      <td>r</td>\n",
       "    </tr>\n",
       "    <tr>\n",
       "      <th>10571</th>\n",
       "      <td>0.15</td>\n",
       "      <td>0</td>\n",
       "      <td>3</td>\n",
       "      <td>y</td>\n",
       "    </tr>\n",
       "  </tbody>\n",
       "</table>\n",
       "</div>"
      ],
      "text/plain": [
       "       satisfaction_level  quit  labels color\n",
       "10567                0.75     0       2     b\n",
       "10568                0.91     0       2     b\n",
       "10569                0.84     0       2     b\n",
       "10570                0.64     0       0     r\n",
       "10571                0.15     0       3     y"
      ]
     },
     "execution_count": 72,
     "metadata": {},
     "output_type": "execute_result"
    }
   ],
   "source": [
    "km.tail()"
   ]
  },
  {
   "cell_type": "code",
   "execution_count": 73,
   "id": "297ed778",
   "metadata": {},
   "outputs": [
    {
     "data": {
      "image/png": "[encoded data removed]",
      "text/plain": [
       "<Figure size 576x432 with 1 Axes>"
      ]
     },
     "metadata": {
      "needs_background": "light"
     },
     "output_type": "display_data"
    },
    {
     "data": {
      "image/png": "[encoded data removed]",
      "text/plain": [
       "<Figure size 432x288 with 1 Axes>"
      ]
     },
     "metadata": {
      "needs_background": "light"
     },
     "output_type": "display_data"
    },
    {
     "data": {
      "image/png": "[encoded data removed]",
      "text/plain": [
       "<Figure size 432x288 with 1 Axes>"
      ]
     },
     "metadata": {
      "needs_background": "light"
     },
     "output_type": "display_data"
    },
    {
     "data": {
      "image/png": "[encoded data removed]",
      "text/plain": [
       "<Figure size 432x288 with 1 Axes>"
      ]
     },
     "metadata": {
      "needs_background": "light"
     },
     "output_type": "display_data"
    },
    {
     "data": {
      "image/png": "[encoded data removed]",
      "text/plain": [
       "<Figure size 432x288 with 1 Axes>"
      ]
     },
     "metadata": {
      "needs_background": "light"
     },
     "output_type": "display_data"
    },
    {
     "ename": "KeyError",
     "evalue": "5",
     "output_type": "error",
     "traceback": [
      "\u001b[1;31m---------------------------------------------------------------------------\u001b[0m",
      "\u001b[1;31mKeyError\u001b[0m                                  Traceback (most recent call last)",
      "\u001b[1;32mC:\\Users\\SHIVAN~1\\AppData\\Local\\Temp/ipykernel_17112/2832746798.py\u001b[0m in \u001b[0;36m<module>\u001b[1;34m\u001b[0m\n\u001b[0;32m      2\u001b[0m \u001b[0mplt\u001b[0m\u001b[1;33m.\u001b[0m\u001b[0mscatter\u001b[0m\u001b[1;33m(\u001b[0m\u001b[0mkm\u001b[0m\u001b[1;33m[\u001b[0m\u001b[1;34m'satisfaction_level'\u001b[0m\u001b[1;33m]\u001b[0m\u001b[1;33m,\u001b[0m\u001b[0mkm\u001b[0m\u001b[1;33m[\u001b[0m\u001b[1;34m'quit'\u001b[0m\u001b[1;33m]\u001b[0m\u001b[1;33m,\u001b[0m\u001b[0mcolor\u001b[0m \u001b[1;33m=\u001b[0m \u001b[0mkm\u001b[0m\u001b[1;33m[\u001b[0m\u001b[1;34m'color'\u001b[0m\u001b[1;33m]\u001b[0m\u001b[1;33m,\u001b[0m \u001b[0malpha\u001b[0m \u001b[1;33m=\u001b[0m \u001b[1;36m0.3\u001b[0m\u001b[1;33m)\u001b[0m\u001b[1;33m\u001b[0m\u001b[1;33m\u001b[0m\u001b[0m\n\u001b[0;32m      3\u001b[0m \u001b[1;32mfor\u001b[0m \u001b[0midx\u001b[0m\u001b[1;33m,\u001b[0m \u001b[0mcentriod\u001b[0m \u001b[1;32min\u001b[0m \u001b[0menumerate\u001b[0m\u001b[1;33m(\u001b[0m\u001b[0mcentroids\u001b[0m\u001b[1;33m)\u001b[0m\u001b[1;33m:\u001b[0m\u001b[1;33m\u001b[0m\u001b[1;33m\u001b[0m\u001b[0m\n\u001b[1;32m----> 4\u001b[1;33m     \u001b[0mplt\u001b[0m\u001b[1;33m.\u001b[0m\u001b[0mscatter\u001b[0m\u001b[1;33m(\u001b[0m\u001b[1;33m*\u001b[0m\u001b[0mcentriod\u001b[0m\u001b[1;33m,\u001b[0m\u001b[0mcolor\u001b[0m \u001b[1;33m=\u001b[0m \u001b[0mcolmp\u001b[0m\u001b[1;33m[\u001b[0m\u001b[0midx\u001b[0m\u001b[1;33m]\u001b[0m\u001b[1;33m)\u001b[0m\u001b[1;33m\u001b[0m\u001b[1;33m\u001b[0m\u001b[0m\n\u001b[0m\u001b[0;32m      5\u001b[0m \u001b[1;33m\u001b[0m\u001b[0m\n\u001b[0;32m      6\u001b[0m     \u001b[0mplt\u001b[0m\u001b[1;33m.\u001b[0m\u001b[0mxlabel\u001b[0m\u001b[1;33m(\u001b[0m\u001b[1;34m'satisfaction level'\u001b[0m\u001b[1;33m)\u001b[0m\u001b[1;33m\u001b[0m\u001b[1;33m\u001b[0m\u001b[0m\n",
      "\u001b[1;31mKeyError\u001b[0m: 5"
     ]
    }
   ],
   "source": [
    "plt.figure(figsize = (8,6))\n",
    "plt.scatter(km['satisfaction_level'],km['quit'],color = km['color'], alpha = 0.3)\n",
    "for idx, centriod in enumerate(centroids):\n",
    "    plt.scatter(*centriod,color = colmp[idx])\n",
    "    \n",
    "    plt.xlabel('satisfaction level')\n",
    "    plt.ylabel('quit')\n",
    "    plt.title('plot of clustered data')\n",
    "    plt.show()\n"
   ]
  },
  {
   "cell_type": "markdown",
   "id": "f9def055",
   "metadata": {},
   "source": [
    "### How to determine the value of K?\n",
    "\n",
    "* If we know how many classes we want to classify, then we use that value as 'k'. For Example - All of us have heard of the Iris data or even worked with it earlier. It has three classes we could classify our flowers into. So, in that case the value of k could be taken as 3.\n",
    "* If we don't know how many classes we want, then we will have to decide what the best 'k' value is. A very popular to find the value of 'k' is **Elbow Method**\n",
    "* **Inertia** is the WCSS (within cluster sum of squares (sum of squared distance from mean) for each cluster. Therefore the smaller the inertia the denser the cluster(closer together all the points are)"
   ]
  },
  {
   "cell_type": "markdown",
   "id": "f0266670",
   "metadata": {},
   "source": [
    "## Elbow"
   ]
  },
  {
   "cell_type": "code",
   "execution_count": 74,
   "id": "d6972248",
   "metadata": {},
   "outputs": [],
   "source": [
    "km = km1[[\"satisfaction_level\",\"quit\"]]\n",
    "inertia_list = []\n",
    "for k in np.arange(1,21):\n",
    "    kmeans = KMeans(n_clusters = k)\n",
    "    kmeans.fit(km)\n",
    "    inertia_list.append(kmeans.inertia_)\n",
    "    \n",
    "    inertia_list"
   ]
  },
  {
   "cell_type": "code",
   "execution_count": 75,
   "id": "6c5f0d73",
   "metadata": {},
   "outputs": [
    {
     "data": {
      "text/plain": [
       "[1490.4817521184386,\n",
       " 481.1562195285159,\n",
       " 214.9066082523304,\n",
       " 132.51602805394293,\n",
       " 74.51524777909268,\n",
       " 48.07364227531485,\n",
       " 31.09285261916174,\n",
       " 21.69626733721126,\n",
       " 15.918019565875062,\n",
       " 11.836320782750546,\n",
       " 9.726991837833678,\n",
       " 8.250870988802404,\n",
       " 7.385410916532751,\n",
       " 6.290497550870181,\n",
       " 5.417582734087518,\n",
       " 4.840286123123039,\n",
       " 4.146806676649619,\n",
       " 3.8102449511929994,\n",
       " 3.3637530582442197,\n",
       " 3.0619542645109883]"
      ]
     },
     "execution_count": 75,
     "metadata": {},
     "output_type": "execute_result"
    }
   ],
   "source": [
    "inertia_list  # here we got 20 values bcz we have given the lenghth (1,21)"
   ]
  },
  {
   "cell_type": "code",
   "execution_count": 64,
   "id": "ab978864",
   "metadata": {},
   "outputs": [],
   "source": [
    "# plotting the elbow curve"
   ]
  },
  {
   "cell_type": "code",
   "execution_count": 76,
   "id": "a4a8de8e",
   "metadata": {},
   "outputs": [
    {
     "data": {
      "text/plain": [
       "Text(0.5, 1.0, 'elbow curve')"
      ]
     },
     "execution_count": 76,
     "metadata": {},
     "output_type": "execute_result"
    },
    {
     "data": {
      "image/png": "[encoded data removed]",
      "text/plain": [
       "<Figure size 720x360 with 1 Axes>"
      ]
     },
     "metadata": {
      "needs_background": "light"
     },
     "output_type": "display_data"
    }
   ],
   "source": [
    "plt.figure(figsize = (10,5))\n",
    "plt.plot(np.arange(1,21),inertia_list)\n",
    "plt.grid(True)\n",
    "plt.xlabel('values of k')\n",
    "plt.ylabel('inertia')\n",
    "plt.title('elbow curve')"
   ]
  },
  {
   "cell_type": "markdown",
   "id": "81635a53",
   "metadata": {},
   "source": [
    "**From above, we select the optimum value of k by determining the Elbow Point - a point after which the inertia starts decreasing linearly. In this case, we can select the value of k as 5.**"
   ]
  }
 ],
 "metadata": {
  "kernelspec": {
   "display_name": "Python 3 (ipykernel)",
   "language": "python",
   "name": "python3"
  },
  "language_info": {
   "codemirror_mode": {
    "name": "ipython",
    "version": 3
   },
   "file_extension": ".py",
   "mimetype": "text/x-python",
   "name": "python",
   "nbconvert_exporter": "python",
   "pygments_lexer": "ipython3",
   "version": "3.8.12"
  }
 },
 "nbformat": 4,
 "nbformat_minor": 5
}
