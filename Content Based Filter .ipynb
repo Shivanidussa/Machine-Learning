{
 "cells": [
  {
   "cell_type": "markdown",
   "id": "94b5fcfd",
   "metadata": {},
   "source": [
    "## Content Based Filter"
   ]
  },
  {
   "cell_type": "code",
   "execution_count": 1,
   "id": "61a7bd72",
   "metadata": {},
   "outputs": [],
   "source": [
    "import numpy as np\n",
    "import pandas as pd\n",
    "import matplotlib.pyplot as plt"
   ]
  },
  {
   "cell_type": "code",
   "execution_count": 2,
   "id": "128f209b",
   "metadata": {},
   "outputs": [
    {
     "data": {
      "text/html": [
       "<div>\n",
       "<style scoped>\n",
       "    .dataframe tbody tr th:only-of-type {\n",
       "        vertical-align: middle;\n",
       "    }\n",
       "\n",
       "    .dataframe tbody tr th {\n",
       "        vertical-align: top;\n",
       "    }\n",
       "\n",
       "    .dataframe thead th {\n",
       "        text-align: right;\n",
       "    }\n",
       "</style>\n",
       "<table border=\"1\" class=\"dataframe\">\n",
       "  <thead>\n",
       "    <tr style=\"text-align: right;\">\n",
       "      <th></th>\n",
       "      <th>title</th>\n",
       "      <th>genres</th>\n",
       "    </tr>\n",
       "  </thead>\n",
       "  <tbody>\n",
       "    <tr>\n",
       "      <th>0</th>\n",
       "      <td>Toy Story</td>\n",
       "      <td>Adventure|Animation|Children|Comedy|Fantasy</td>\n",
       "    </tr>\n",
       "    <tr>\n",
       "      <th>1</th>\n",
       "      <td>Jumanji</td>\n",
       "      <td>Adventure|Children|Fantasy</td>\n",
       "    </tr>\n",
       "    <tr>\n",
       "      <th>2</th>\n",
       "      <td>Grumpier Old Men</td>\n",
       "      <td>Comedy|Romance</td>\n",
       "    </tr>\n",
       "    <tr>\n",
       "      <th>3</th>\n",
       "      <td>Waiting to Exhale</td>\n",
       "      <td>Comedy|Drama|Romance</td>\n",
       "    </tr>\n",
       "    <tr>\n",
       "      <th>4</th>\n",
       "      <td>Father of the Bride Part II</td>\n",
       "      <td>Comedy</td>\n",
       "    </tr>\n",
       "  </tbody>\n",
       "</table>\n",
       "</div>"
      ],
      "text/plain": [
       "                          title                                       genres\n",
       "0                    Toy Story   Adventure|Animation|Children|Comedy|Fantasy\n",
       "1                      Jumanji                    Adventure|Children|Fantasy\n",
       "2             Grumpier Old Men                                Comedy|Romance\n",
       "3            Waiting to Exhale                          Comedy|Drama|Romance\n",
       "4  Father of the Bride Part II                                        Comedy"
      ]
     },
     "execution_count": 2,
     "metadata": {},
     "output_type": "execute_result"
    }
   ],
   "source": [
    "# Reading movie file\n",
    "movies = pd.read_csv(r\"C:\\Users\\Shivani Dussa\\Downloads\\movies.csv\",sep = ',',encoding = 'latin-1',usecols =['title','genres'])\n",
    "movies.head()"
   ]
  },
  {
   "cell_type": "code",
   "execution_count": 2,
   "id": "e8d30e8c",
   "metadata": {},
   "outputs": [],
   "source": [
    "m = pd.read_csv(r\"C:\\Users\\Shivani Dussa\\Downloads\\movies.csv\")"
   ]
  },
  {
   "cell_type": "code",
   "execution_count": 3,
   "id": "d8893cc4",
   "metadata": {},
   "outputs": [
    {
     "data": {
      "text/html": [
       "<div>\n",
       "<style scoped>\n",
       "    .dataframe tbody tr th:only-of-type {\n",
       "        vertical-align: middle;\n",
       "    }\n",
       "\n",
       "    .dataframe tbody tr th {\n",
       "        vertical-align: top;\n",
       "    }\n",
       "\n",
       "    .dataframe thead th {\n",
       "        text-align: right;\n",
       "    }\n",
       "</style>\n",
       "<table border=\"1\" class=\"dataframe\">\n",
       "  <thead>\n",
       "    <tr style=\"text-align: right;\">\n",
       "      <th></th>\n",
       "      <th>movieId</th>\n",
       "      <th>title</th>\n",
       "      <th>genres</th>\n",
       "    </tr>\n",
       "  </thead>\n",
       "  <tbody>\n",
       "    <tr>\n",
       "      <th>0</th>\n",
       "      <td>1</td>\n",
       "      <td>Toy Story</td>\n",
       "      <td>Adventure|Animation|Children|Comedy|Fantasy</td>\n",
       "    </tr>\n",
       "    <tr>\n",
       "      <th>1</th>\n",
       "      <td>2</td>\n",
       "      <td>Jumanji</td>\n",
       "      <td>Adventure|Children|Fantasy</td>\n",
       "    </tr>\n",
       "    <tr>\n",
       "      <th>2</th>\n",
       "      <td>3</td>\n",
       "      <td>Grumpier Old Men</td>\n",
       "      <td>Comedy|Romance</td>\n",
       "    </tr>\n",
       "    <tr>\n",
       "      <th>3</th>\n",
       "      <td>4</td>\n",
       "      <td>Waiting to Exhale</td>\n",
       "      <td>Comedy|Drama|Romance</td>\n",
       "    </tr>\n",
       "    <tr>\n",
       "      <th>4</th>\n",
       "      <td>5</td>\n",
       "      <td>Father of the Bride Part II</td>\n",
       "      <td>Comedy</td>\n",
       "    </tr>\n",
       "  </tbody>\n",
       "</table>\n",
       "</div>"
      ],
      "text/plain": [
       "   movieId                         title  \\\n",
       "0        1                    Toy Story    \n",
       "1        2                      Jumanji    \n",
       "2        3             Grumpier Old Men    \n",
       "3        4            Waiting to Exhale    \n",
       "4        5  Father of the Bride Part II    \n",
       "\n",
       "                                        genres  \n",
       "0  Adventure|Animation|Children|Comedy|Fantasy  \n",
       "1                   Adventure|Children|Fantasy  \n",
       "2                               Comedy|Romance  \n",
       "3                         Comedy|Drama|Romance  \n",
       "4                                       Comedy  "
      ]
     },
     "execution_count": 3,
     "metadata": {},
     "output_type": "execute_result"
    }
   ],
   "source": [
    "m.head()"
   ]
  },
  {
   "cell_type": "code",
   "execution_count": 4,
   "id": "8149b208",
   "metadata": {},
   "outputs": [
    {
     "data": {
      "text/plain": [
       "(9742, 3)"
      ]
     },
     "execution_count": 4,
     "metadata": {},
     "output_type": "execute_result"
    }
   ],
   "source": [
    "m.shape"
   ]
  },
  {
   "cell_type": "code",
   "execution_count": 4,
   "id": "c79c28c3",
   "metadata": {},
   "outputs": [
    {
     "data": {
      "text/plain": [
       "(9742, 2)"
      ]
     },
     "execution_count": 4,
     "metadata": {},
     "output_type": "execute_result"
    }
   ],
   "source": [
    "movies.shape"
   ]
  },
  {
   "cell_type": "code",
   "execution_count": 5,
   "id": "9ffefe1e",
   "metadata": {},
   "outputs": [
    {
     "data": {
      "text/html": [
       "<div>\n",
       "<style scoped>\n",
       "    .dataframe tbody tr th:only-of-type {\n",
       "        vertical-align: middle;\n",
       "    }\n",
       "\n",
       "    .dataframe tbody tr th {\n",
       "        vertical-align: top;\n",
       "    }\n",
       "\n",
       "    .dataframe thead th {\n",
       "        text-align: right;\n",
       "    }\n",
       "</style>\n",
       "<table border=\"1\" class=\"dataframe\">\n",
       "  <thead>\n",
       "    <tr style=\"text-align: right;\">\n",
       "      <th></th>\n",
       "      <th>title</th>\n",
       "      <th>genres</th>\n",
       "    </tr>\n",
       "  </thead>\n",
       "  <tbody>\n",
       "    <tr>\n",
       "      <th>0</th>\n",
       "      <td>Toy Story</td>\n",
       "      <td>[Adventure, Animation, Children, Comedy, Fantasy]</td>\n",
       "    </tr>\n",
       "    <tr>\n",
       "      <th>1</th>\n",
       "      <td>Jumanji</td>\n",
       "      <td>[Adventure, Children, Fantasy]</td>\n",
       "    </tr>\n",
       "  </tbody>\n",
       "</table>\n",
       "</div>"
      ],
      "text/plain": [
       "        title                                             genres\n",
       "0  Toy Story   [Adventure, Animation, Children, Comedy, Fantasy]\n",
       "1    Jumanji                      [Adventure, Children, Fantasy]"
      ]
     },
     "execution_count": 5,
     "metadata": {},
     "output_type": "execute_result"
    }
   ],
   "source": [
    "# Break up the big genres string into a strinf array\n",
    "movies['genres'] = movies['genres'].str.split('|')\n",
    "movies.head(2)"
   ]
  },
  {
   "cell_type": "code",
   "execution_count": 6,
   "id": "efdaf102",
   "metadata": {},
   "outputs": [
    {
     "data": {
      "text/html": [
       "<div>\n",
       "<style scoped>\n",
       "    .dataframe tbody tr th:only-of-type {\n",
       "        vertical-align: middle;\n",
       "    }\n",
       "\n",
       "    .dataframe tbody tr th {\n",
       "        vertical-align: top;\n",
       "    }\n",
       "\n",
       "    .dataframe thead th {\n",
       "        text-align: right;\n",
       "    }\n",
       "</style>\n",
       "<table border=\"1\" class=\"dataframe\">\n",
       "  <thead>\n",
       "    <tr style=\"text-align: right;\">\n",
       "      <th></th>\n",
       "      <th>title</th>\n",
       "      <th>genres</th>\n",
       "    </tr>\n",
       "  </thead>\n",
       "  <tbody>\n",
       "    <tr>\n",
       "      <th>0</th>\n",
       "      <td>Toy Story</td>\n",
       "      <td>['Adventure', 'Animation', 'Children', 'Comedy...</td>\n",
       "    </tr>\n",
       "    <tr>\n",
       "      <th>1</th>\n",
       "      <td>Jumanji</td>\n",
       "      <td>['Adventure', 'Children', 'Fantasy']</td>\n",
       "    </tr>\n",
       "    <tr>\n",
       "      <th>2</th>\n",
       "      <td>Grumpier Old Men</td>\n",
       "      <td>['Comedy', 'Romance']</td>\n",
       "    </tr>\n",
       "    <tr>\n",
       "      <th>3</th>\n",
       "      <td>Waiting to Exhale</td>\n",
       "      <td>['Comedy', 'Drama', 'Romance']</td>\n",
       "    </tr>\n",
       "  </tbody>\n",
       "</table>\n",
       "</div>"
      ],
      "text/plain": [
       "                title                                             genres\n",
       "0          Toy Story   ['Adventure', 'Animation', 'Children', 'Comedy...\n",
       "1            Jumanji                ['Adventure', 'Children', 'Fantasy']\n",
       "2   Grumpier Old Men                               ['Comedy', 'Romance']\n",
       "3  Waiting to Exhale                      ['Comedy', 'Drama', 'Romance']"
      ]
     },
     "execution_count": 6,
     "metadata": {},
     "output_type": "execute_result"
    }
   ],
   "source": [
    "# convert genres to string value\n",
    "movies['genres'] = movies['genres'].fillna(\"\").astype(\"str\")\n",
    "movies.head(4)"
   ]
  },
  {
   "cell_type": "markdown",
   "id": "bcd38b4c",
   "metadata": {},
   "source": [
    "## Recommendation Based on Genre"
   ]
  },
  {
   "cell_type": "code",
   "execution_count": 9,
   "id": "31138200",
   "metadata": {},
   "outputs": [
    {
     "data": {
      "text/plain": [
       "(9742, 177)"
      ]
     },
     "execution_count": 9,
     "metadata": {},
     "output_type": "execute_result"
    }
   ],
   "source": [
    "from sklearn.feature_extraction.text import TfidfVectorizer\n",
    "tfv = TfidfVectorizer(analyzer = 'word',ngram_range = (1,2),min_df = 0,stop_words = 'english')\n",
    "tfv_matrix = tfv.fit_transform(movies['genres'])\n",
    "tfv_matrix.shape"
   ]
  },
  {
   "cell_type": "code",
   "execution_count": 12,
   "id": "c6b0877a",
   "metadata": {},
   "outputs": [
    {
     "data": {
      "text/plain": [
       "TfidfVectorizer(min_df=0, ngram_range=(1, 2), stop_words='english')"
      ]
     },
     "execution_count": 12,
     "metadata": {},
     "output_type": "execute_result"
    }
   ],
   "source": [
    "tfv"
   ]
  },
  {
   "cell_type": "code",
   "execution_count": 16,
   "id": "06a371d9",
   "metadata": {},
   "outputs": [
    {
     "data": {
      "text/plain": [
       "<9742x177 sparse matrix of type '<class 'numpy.float64'>'\n",
       "\twith 36628 stored elements in Compressed Sparse Row format>"
      ]
     },
     "execution_count": 16,
     "metadata": {},
     "output_type": "execute_result"
    }
   ],
   "source": [
    "tfv_matrix"
   ]
  },
  {
   "cell_type": "code",
   "execution_count": 17,
   "id": "45d6e0d1",
   "metadata": {
    "collapsed": true
   },
   "outputs": [
    {
     "name": "stdout",
     "output_type": "stream",
     "text": [
      "  (0, 63)\t0.4051430286389587\n",
      "  (0, 47)\t0.3681884973089335\n",
      "  (0, 34)\t0.38369482677526473\n",
      "  (0, 18)\t0.4008862821540716\n",
      "  (0, 108)\t0.30254034715329503\n",
      "  (0, 59)\t0.16761357728391116\n",
      "  (0, 46)\t0.3162303113127544\n",
      "  (0, 33)\t0.32335863498874723\n",
      "  (0, 17)\t0.26110809240797916\n",
      "  (1, 51)\t0.5795995638728872\n",
      "  (1, 19)\t0.5337814180965866\n",
      "  (1, 108)\t0.36554429536140276\n",
      "  (1, 46)\t0.382085190978399\n",
      "  (1, 17)\t0.31548378439611124\n",
      "  (2, 68)\t0.7695974416123483\n",
      "  (2, 160)\t0.5242383036039113\n",
      "  (2, 59)\t0.36454626441402677\n",
      "  (3, 103)\t0.5645649298589199\n",
      "  (3, 62)\t0.5417511322516687\n",
      "  (3, 96)\t0.2904365851652309\n",
      "  (3, 160)\t0.4522400920963429\n",
      "  (3, 59)\t0.31447995130958456\n",
      "  (4, 59)\t1.0\n",
      "  (5, 84)\t0.604518892749723\n",
      "  (5, 5)\t0.5454388121871825\n",
      "  :\t:\n",
      "  (9733, 38)\t0.835677806885533\n",
      "  (9733, 96)\t0.23714974930952545\n",
      "  (9733, 33)\t0.495381266784903\n",
      "  (9734, 62)\t0.7846149876753742\n",
      "  (9734, 96)\t0.42063760299449465\n",
      "  (9734, 59)\t0.4554594691761476\n",
      "  (9735, 33)\t1.0\n",
      "  (9736, 86)\t1.0\n",
      "  (9737, 2)\t0.5335755137706529\n",
      "  (9737, 35)\t0.48852761033721437\n",
      "  (9737, 0)\t0.23849873017217763\n",
      "  (9737, 63)\t0.4212194165327047\n",
      "  (9737, 108)\t0.31454538150050887\n",
      "  (9737, 59)\t0.17426461332352133\n",
      "  (9737, 33)\t0.33618975505598625\n",
      "  (9738, 35)\t0.6020590403453507\n",
      "  (9738, 63)\t0.5191087511255665\n",
      "  (9738, 108)\t0.3876441914931675\n",
      "  (9738, 59)\t0.21476285811418472\n",
      "  (9738, 33)\t0.4143186117223373\n",
      "  (9739, 96)\t1.0\n",
      "  (9740, 2)\t0.7913659180854576\n",
      "  (9740, 0)\t0.3537264392646911\n",
      "  (9740, 33)\t0.4986156734980192\n",
      "  (9741, 59)\t1.0\n"
     ]
    }
   ],
   "source": [
    "print(tfv_matrix)"
   ]
  },
  {
   "cell_type": "code",
   "execution_count": 18,
   "id": "d7f3fc3d",
   "metadata": {},
   "outputs": [],
   "source": [
    "from sklearn.metrics.pairwise import cosine_similarity\n",
    "cos_s = cosine_similarity(tfv_matrix,tfv_matrix)"
   ]
  },
  {
   "cell_type": "code",
   "execution_count": 19,
   "id": "9e854dcb",
   "metadata": {},
   "outputs": [
    {
     "data": {
      "text/plain": [
       "(9742, 9742)"
      ]
     },
     "execution_count": 19,
     "metadata": {},
     "output_type": "execute_result"
    }
   ],
   "source": [
    "cos_s.shape"
   ]
  },
  {
   "cell_type": "code",
   "execution_count": 23,
   "id": "d1dc0958",
   "metadata": {},
   "outputs": [
    {
     "name": "stdout",
     "output_type": "stream",
     "text": [
      "[[1.         0.31379419 0.0611029  ... 0.         0.16123168 0.16761358]\n",
      " [0.31379419 1.         0.         ... 0.         0.         0.        ]\n",
      " [0.0611029  0.         1.         ... 0.         0.         0.36454626]\n",
      " ...\n",
      " [0.         0.         0.         ... 1.         0.         0.        ]\n",
      " [0.16123168 0.         0.         ... 0.         1.         0.        ]\n",
      " [0.16761358 0.         0.36454626 ... 0.         0.         1.        ]]\n"
     ]
    }
   ],
   "source": [
    "print(cos_s)"
   ]
  },
  {
   "cell_type": "code",
   "execution_count": 24,
   "id": "f3c77689",
   "metadata": {},
   "outputs": [
    {
     "data": {
      "text/html": [
       "<div>\n",
       "<style scoped>\n",
       "    .dataframe tbody tr th:only-of-type {\n",
       "        vertical-align: middle;\n",
       "    }\n",
       "\n",
       "    .dataframe tbody tr th {\n",
       "        vertical-align: top;\n",
       "    }\n",
       "\n",
       "    .dataframe thead th {\n",
       "        text-align: right;\n",
       "    }\n",
       "</style>\n",
       "<table border=\"1\" class=\"dataframe\">\n",
       "  <thead>\n",
       "    <tr style=\"text-align: right;\">\n",
       "      <th></th>\n",
       "      <th>title</th>\n",
       "      <th>genres</th>\n",
       "    </tr>\n",
       "  </thead>\n",
       "  <tbody>\n",
       "    <tr>\n",
       "      <th>0</th>\n",
       "      <td>Toy Story</td>\n",
       "      <td>['Adventure', 'Animation', 'Children', 'Comedy...</td>\n",
       "    </tr>\n",
       "    <tr>\n",
       "      <th>1</th>\n",
       "      <td>Jumanji</td>\n",
       "      <td>['Adventure', 'Children', 'Fantasy']</td>\n",
       "    </tr>\n",
       "  </tbody>\n",
       "</table>\n",
       "</div>"
      ],
      "text/plain": [
       "        title                                             genres\n",
       "0  Toy Story   ['Adventure', 'Animation', 'Children', 'Comedy...\n",
       "1    Jumanji                ['Adventure', 'Children', 'Fantasy']"
      ]
     },
     "execution_count": 24,
     "metadata": {},
     "output_type": "execute_result"
    }
   ],
   "source": [
    "movies.head(2)"
   ]
  },
  {
   "cell_type": "code",
   "execution_count": 39,
   "id": "1ec9c793",
   "metadata": {},
   "outputs": [],
   "source": [
    "# Build a one dimensional array with movie titles\n",
    "titles = movies['title']\n",
    "\n",
    "# bulding a indices \"series\", reversing the index & title ....these will help to get an index, given a movie title\n",
    "indices = pd.Series(movies.index,index = movies['title'])"
   ]
  },
  {
   "cell_type": "code",
   "execution_count": 40,
   "id": "4664a5ef",
   "metadata": {},
   "outputs": [
    {
     "name": "stdout",
     "output_type": "stream",
     "text": [
      "(9742,)\n"
     ]
    },
    {
     "data": {
      "text/plain": [
       "title\n",
       "Toy Story                       0\n",
       "Jumanji                         1\n",
       "Grumpier Old Men                2\n",
       "Waiting to Exhale               3\n",
       "Father of the Bride Part II     4\n",
       "dtype: int64"
      ]
     },
     "execution_count": 40,
     "metadata": {},
     "output_type": "execute_result"
    }
   ],
   "source": [
    "print(indices.shape)\n",
    "indices.head()"
   ]
  },
  {
   "cell_type": "code",
   "execution_count": 31,
   "id": "93dc6fad",
   "metadata": {},
   "outputs": [
    {
     "name": "stdout",
     "output_type": "stream",
     "text": [
      "(9742,)\n"
     ]
    },
    {
     "data": {
      "text/plain": [
       "0                      Toy Story \n",
       "1                        Jumanji \n",
       "2               Grumpier Old Men \n",
       "3              Waiting to Exhale \n",
       "4    Father of the Bride Part II \n",
       "Name: title, dtype: object"
      ]
     },
     "execution_count": 31,
     "metadata": {},
     "output_type": "execute_result"
    }
   ],
   "source": [
    "print(titles.shape)\n",
    "titles.head()"
   ]
  },
  {
   "cell_type": "code",
   "execution_count": 38,
   "id": "1c584173",
   "metadata": {},
   "outputs": [
    {
     "data": {
      "text/plain": [
       "('Jumanji ',\n",
       " 'Toy Story ',\n",
       " 'Thing from Another World, The ',\n",
       " 'War of the Worlds, The ',\n",
       " 'Andrew Dice Clay: Dice Rules ')"
      ]
     },
     "execution_count": 38,
     "metadata": {},
     "output_type": "execute_result"
    }
   ],
   "source": [
    "titles[1] ,titles[0],titles[1999],titles[2001],titles[9741]"
   ]
  },
  {
   "cell_type": "code",
   "execution_count": 49,
   "id": "8b0a7aba",
   "metadata": {},
   "outputs": [
    {
     "data": {
      "text/plain": [
       "(1, 0, 2001)"
      ]
     },
     "execution_count": 49,
     "metadata": {},
     "output_type": "execute_result"
    }
   ],
   "source": [
    "indices['Jumanji '],indices['Toy Story '],indices[ 'War of the Worlds, The ']"
   ]
  },
  {
   "cell_type": "code",
   "execution_count": 65,
   "id": "eed3dfdd",
   "metadata": {},
   "outputs": [],
   "source": [
    "ix = indices['War of the Worlds, The ']\n",
    "similar_scores = cos_s[ix]\n",
    "similar_scrs = list(enumerate(similar_scores))\n",
    "similar_s = sorted(similar_scrs,key = lambda x:x[1], reverse = True)\n"
   ]
  },
  {
   "cell_type": "code",
   "execution_count": 62,
   "id": "91c3edce",
   "metadata": {},
   "outputs": [
    {
     "name": "stdout",
     "output_type": "stream",
     "text": [
      "9742\n"
     ]
    },
    {
     "data": {
      "text/plain": [
       "array([0.        , 0.        , 0.        , ..., 0.18506379, 0.09700799,\n",
       "       0.        ])"
      ]
     },
     "execution_count": 62,
     "metadata": {},
     "output_type": "execute_result"
    }
   ],
   "source": [
    "print(len(similar_scores))\n",
    "similar_scores"
   ]
  },
  {
   "cell_type": "code",
   "execution_count": 64,
   "id": "99ecf8d9",
   "metadata": {},
   "outputs": [
    {
     "name": "stdout",
     "output_type": "stream",
     "text": [
      "9742\n"
     ]
    },
    {
     "data": {
      "text/plain": [
       "[(0, 0.0), (1, 0.0), (2, 0.0), (3, 0.05374929591041445), (4, 0.0)]"
      ]
     },
     "execution_count": 64,
     "metadata": {},
     "output_type": "execute_result"
    }
   ],
   "source": [
    "print(len(similar_scrs))\n",
    "similar_scrs[0:5]"
   ]
  },
  {
   "cell_type": "code",
   "execution_count": 67,
   "id": "d6769e4d",
   "metadata": {},
   "outputs": [
    {
     "name": "stdout",
     "output_type": "stream",
     "text": [
      "9742\n"
     ]
    },
    {
     "data": {
      "text/plain": [
       "[(439, 1.0), (1905, 1.0), (2001, 1.0), (3926, 1.0), (8322, 1.0)]"
      ]
     },
     "execution_count": 67,
     "metadata": {},
     "output_type": "execute_result"
    }
   ],
   "source": [
    "print(len(similar_s))\n",
    "similar_s[0:5]"
   ]
  },
  {
   "cell_type": "code",
   "execution_count": 103,
   "id": "0a6f7379",
   "metadata": {},
   "outputs": [
    {
     "name": "stdout",
     "output_type": "stream",
     "text": [
      "[0.         0.         0.         ... 0.18506379 0.09700799 0.        ]\n",
      "[(0, 0.0), (1, 0.0), (2, 0.0), (3, 0.05374929591041445), (4, 0.0)]\n",
      "[(439, 1.0), (1905, 1.0), (2001, 1.0), (3926, 1.0), (8322, 1.0)]\n"
     ]
    }
   ],
   "source": [
    "idx = indices['War of the Worlds, The ']\n",
    "sim_scores = cos_s[idx]\n",
    "print(sim_scores)\n",
    "sim_scores = list(enumerate(sim_scores))\n",
    "print(sim_scores[0:5])\n",
    "sim_scores = sorted(sim_scores, key=lambda x: x[1], reverse=True)\n",
    "print(sim_scores[0:5])"
   ]
  },
  {
   "cell_type": "code",
   "execution_count": 74,
   "id": "f75ca7d0",
   "metadata": {},
   "outputs": [
    {
     "data": {
      "text/plain": [
       "[439, 1905, 2001, 3926, 8322]"
      ]
     },
     "execution_count": 74,
     "metadata": {},
     "output_type": "execute_result"
    }
   ],
   "source": [
    "movie_indices = [i[0] for i in similar_s]\n",
    "movie_indices[0:5]"
   ]
  },
  {
   "cell_type": "code",
   "execution_count": 79,
   "id": "631727dd",
   "metadata": {},
   "outputs": [
    {
     "data": {
      "text/plain": [
       "439                                         No Escape \n",
       "1905                               Planet of the Apes \n",
       "2001                           War of the Worlds, The \n",
       "3926                                       Rollerball \n",
       "8322                                      Snowpiercer \n",
       "                             ...                      \n",
       "9730    Hommage Ã  Zgougou (et salut Ã  Sabine Mamou) \n",
       "9735                 Love Live! The School Idol Movie \n",
       "9736                Jon Stewart Has Left the Building \n",
       "9738                            No Game No Life: Zero \n",
       "9741                     Andrew Dice Clay: Dice Rules \n",
       "Name: title, Length: 9742, dtype: object"
      ]
     },
     "execution_count": 79,
     "metadata": {},
     "output_type": "execute_result"
    }
   ],
   "source": [
    "titles[movie_indices]"
   ]
  },
  {
   "cell_type": "code",
   "execution_count": 111,
   "id": "f1ab3b08",
   "metadata": {},
   "outputs": [],
   "source": [
    "#  **Functions that get movie recommendations based on the cosine similarity score of movie genres**\n",
    "def genre_recom(title):\n",
    "    ix = indices[title]\n",
    "    sim_scores= list(enumerate(cos_s[ix]))\n",
    "    sim_scores = sorted(sim_scores,key = lambda x:x[1], reverse = True)\n",
    "    sim_scores = sim_scores[1:21]\n",
    "    movie_indices = [i[0] for i in sim_scores]\n",
    "    return titles.iloc[movie_indices]\n"
   ]
  },
  {
   "cell_type": "code",
   "execution_count": 112,
   "id": "bce309b4",
   "metadata": {},
   "outputs": [
    {
     "data": {
      "text/plain": [
       "8387                          Need for Speed \n",
       "8149      Grandmaster, The (Yi dai zong shi) \n",
       "123                                Apollo 13 \n",
       "8026                              Life of Pi \n",
       "8396                                    Noah \n",
       "38                           Dead Presidents \n",
       "341                              Bad Company \n",
       "347             Faster Pussycat! Kill! Kill! \n",
       "430                        Menace II Society \n",
       "568                          Substitute, The \n",
       "665                          Nothing to Lose \n",
       "1645                       Untouchables, The \n",
       "1696                           Monument Ave. \n",
       "2563                              Death Wish \n",
       "2574                        Band of the Hand \n",
       "3037                              Foxy Brown \n",
       "3124    Harley Davidson and the Marlboro Man \n",
       "3167                                Scarface \n",
       "3217                               Swordfish \n",
       "3301                           Above the Law \n",
       "Name: title, dtype: object"
      ]
     },
     "execution_count": 112,
     "metadata": {},
     "output_type": "execute_result"
    }
   ],
   "source": [
    "genre_recom('Dark Knight ').head(21)"
   ]
  },
  {
   "cell_type": "code",
   "execution_count": 113,
   "id": "6c137707",
   "metadata": {
    "collapsed": true
   },
   "outputs": [
    {
     "data": {
      "text/plain": [
       "999                          Forbidden Planet \n",
       "1187                                  Contact \n",
       "1485                               Metropolis \n",
       "1578              1984 (Nineteen Eighty-Four) \n",
       "2267                               Last Night \n",
       "2762         Brother from Another Planet, The \n",
       "2982                              Unbreakable \n",
       "3455                           Altered States \n",
       "3849                           Silent Running \n",
       "4241               Man Who Fell to Earth, The \n",
       "4316                           Fahrenheit 451 \n",
       "4510                     Handmaid's Tale, The \n",
       "4665    Dernier Combat, Le (Last Battle, The) \n",
       "5023            Babylon 5: The River of Souls \n",
       "5024                    Babylon 5: Thirdspace \n",
       "5116                                   Charly \n",
       "5347                                   Primer \n",
       "5511                           Day After, The \n",
       "6562                                Electroma \n",
       "6618                      Man from Earth, The \n",
       "Name: title, dtype: object"
      ]
     },
     "execution_count": 113,
     "metadata": {},
     "output_type": "execute_result"
    }
   ],
   "source": [
    "genre_recom('1984 (Nineteen Eighty-Four) ').head(21)"
   ]
  },
  {
   "cell_type": "code",
   "execution_count": 114,
   "id": "8c0acf4e",
   "metadata": {
    "collapsed": true
   },
   "outputs": [
    {
     "data": {
      "text/plain": [
       "53                           Indian in the Cupboard, The \n",
       "109                           NeverEnding Story III, The \n",
       "767                             Escape to Witch Mountain \n",
       "1514                  Darby O'Gill and the Little People \n",
       "1556                                        Return to Oz \n",
       "1617                              NeverEnding Story, The \n",
       "1618         NeverEnding Story II: The Next Chapter, The \n",
       "1799                              Santa Claus: The Movie \n",
       "3574    Harry Potter and the Sorcerer's Stone (a.k.a. ...\n",
       "6075    Chronicles of Narnia: The Lion, the Witch and ...\n",
       "6389                                Bridge to Terabithia \n",
       "6629                                 Golden Compass, The \n",
       "6655                Water Horse: Legend of the Deep, The \n",
       "6751           Chronicles of Narnia: Prince Caspian, The \n",
       "7426                                 Alice in Wonderland \n",
       "7478    Chronicles of Narnia: The Voyage of the Dawn T...\n",
       "8230                      Percy Jackson: Sea of Monsters \n",
       "8641                                         Seventh Son \n",
       "8719                         The Cave of the Golden Rose \n",
       "8800                                                 Pan \n",
       "Name: title, dtype: object"
      ]
     },
     "execution_count": 114,
     "metadata": {},
     "output_type": "execute_result"
    }
   ],
   "source": [
    "genre_recom('Jumanji ').head(21)"
   ]
  },
  {
   "cell_type": "markdown",
   "id": "cc5d9859",
   "metadata": {},
   "source": [
    "## Recommendation Based on Title"
   ]
  },
  {
   "cell_type": "code",
   "execution_count": 88,
   "id": "7ce709e1",
   "metadata": {},
   "outputs": [
    {
     "data": {
      "text/plain": [
       "(9742, 20558)"
      ]
     },
     "execution_count": 88,
     "metadata": {},
     "output_type": "execute_result"
    }
   ],
   "source": [
    "from sklearn.feature_extraction.text import TfidfVectorizer\n",
    "tfvtitle = TfidfVectorizer(analyzer = 'word',ngram_range = (1,2),min_df = 0,stop_words = 'english')\n",
    "tfvtitle_matrix = tfv.fit_transform(movies['title'])\n",
    "tfvtitle_matrix.shape"
   ]
  },
  {
   "cell_type": "code",
   "execution_count": 89,
   "id": "24210b40",
   "metadata": {},
   "outputs": [
    {
     "data": {
      "text/plain": [
       "array([[1., 0., 0., 0.],\n",
       "       [0., 1., 0., 0.],\n",
       "       [0., 0., 1., 0.],\n",
       "       [0., 0., 0., 1.]])"
      ]
     },
     "execution_count": 89,
     "metadata": {},
     "output_type": "execute_result"
    }
   ],
   "source": [
    "from sklearn.metrics.pairwise import cosine_similarity\n",
    "cos_sm = cosine_similarity(tfvtitle_matrix,tfvtitle_matrix)\n",
    "cos_sm[:4,:4]"
   ]
  },
  {
   "cell_type": "code",
   "execution_count": 90,
   "id": "eba05f5c",
   "metadata": {},
   "outputs": [],
   "source": [
    "# Build a one dimensional array with movies\n",
    "titles = movies['title']\n",
    "indices = pd.Series(movies.index,index = movies['title'])"
   ]
  },
  {
   "cell_type": "code",
   "execution_count": 95,
   "id": "ea09755e",
   "metadata": {},
   "outputs": [],
   "source": [
    "#titles.head()\n",
    "#indices.head()"
   ]
  },
  {
   "cell_type": "code",
   "execution_count": 123,
   "id": "b415bcbe",
   "metadata": {},
   "outputs": [],
   "source": [
    "# Function that get movie recomendations based on the cosine similary scores of movie genre\n",
    "def title_recom(title):\n",
    "    idx = indices[title]\n",
    "    similar_scrs = list(enumerate(cos_sm[idx]))\n",
    "    similar_scrs = sorted(similar_scrs,key = lambda x:x[1], reverse = True)\n",
    "    similar_scrs = similar_scrs[1:21]\n",
    "    movie_indices = [i[0] for i in similar_scrs]\n",
    "    return titles.iloc[movie_indices]"
   ]
  },
  {
   "cell_type": "code",
   "execution_count": 124,
   "id": "df88b343",
   "metadata": {},
   "outputs": [
    {
     "data": {
      "text/plain": [
       "7768                     Dark Knight Rises, The \n",
       "8032    Batman: The Dark Knight Returns, Part 1 \n",
       "8080    Batman: The Dark Knight Returns, Part 2 \n",
       "140                                First Knight \n",
       "2417                         Cry in the Dark, A \n",
       "5778                          Alone in the Dark \n",
       "7375                             Knight and Day \n",
       "3576                               Black Knight \n",
       "3190                           Knight's Tale, A \n",
       "6858                       Alone in the Dark II \n",
       "4242                                  Dark Blue \n",
       "5060                                  Dark Days \n",
       "1305                                  Dark City \n",
       "5483                                  Dark Star \n",
       "6815                      Batman: Gotham Knight \n",
       "5934                                 Dark Water \n",
       "4749                        Shot in the Dark, A \n",
       "7877                               Dark Shadows \n",
       "8766                            The Dark Valley \n",
       "6690                      Taxi to the Dark Side \n",
       "Name: title, dtype: object"
      ]
     },
     "execution_count": 124,
     "metadata": {},
     "output_type": "execute_result"
    }
   ],
   "source": [
    "title_recom('Dark Knight ').head(20)"
   ]
  },
  {
   "cell_type": "code",
   "execution_count": 125,
   "id": "1342a4d1",
   "metadata": {
    "collapsed": true
   },
   "outputs": [
    {
     "data": {
      "text/plain": [
       "9636    Jumanji: Welcome to the Jungle \n",
       "0                            Toy Story \n",
       "2                     Grumpier Old Men \n",
       "3                    Waiting to Exhale \n",
       "4          Father of the Bride Part II \n",
       "5                                 Heat \n",
       "6                              Sabrina \n",
       "7                         Tom and Huck \n",
       "8                         Sudden Death \n",
       "9                            GoldenEye \n",
       "10             American President, The \n",
       "11         Dracula: Dead and Loving It \n",
       "12                               Balto \n",
       "13                               Nixon \n",
       "14                    Cutthroat Island \n",
       "15                              Casino \n",
       "16               Sense and Sensibility \n",
       "17                          Four Rooms \n",
       "18      Ace Ventura: When Nature Calls \n",
       "19                         Money Train \n",
       "Name: title, dtype: object"
      ]
     },
     "execution_count": 125,
     "metadata": {},
     "output_type": "execute_result"
    }
   ],
   "source": [
    "title_recom('Jumanji ')"
   ]
  }
 ],
 "metadata": {
  "kernelspec": {
   "display_name": "Python 3",
   "language": "python",
   "name": "python3"
  },
  "language_info": {
   "codemirror_mode": {
    "name": "ipython",
    "version": 3
   },
   "file_extension": ".py",
   "mimetype": "text/x-python",
   "name": "python",
   "nbconvert_exporter": "python",
   "pygments_lexer": "ipython3",
   "version": "3.8.8"
  }
 },
 "nbformat": 4,
 "nbformat_minor": 5
}
